{
  "nbformat": 4,
  "nbformat_minor": 0,
  "metadata": {
    "colab": {
      "provenance": [],
      "collapsed_sections": [
        "M9cTf1jo5zGC"
      ],
      "toc_visible": true
    },
    "kernelspec": {
      "name": "python3",
      "display_name": "Python 3"
    },
    "language_info": {
      "name": "python"
    }
  },
  "cells": [
    {
      "cell_type": "markdown",
      "source": [
        "# **I. Introduction**\n"
      ],
      "metadata": {
        "id": "hjiAsfCTJjCe"
      }
    },
    {
      "cell_type": "markdown",
      "source": [
        "Nama : Monica M. Pratiwi\n",
        "<br>\n",
        "Batch : FTDS-016-RMT"
      ],
      "metadata": {
        "id": "ZvcGnSh-JkQF"
      }
    },
    {
      "cell_type": "markdown",
      "source": [
        "## **Dataset yang Digunakan**"
      ],
      "metadata": {
        "id": "3ysfBp9hKQo5"
      }
    },
    {
      "cell_type": "markdown",
      "source": [
        "Dataset yang digunakan adalah dataset 'Black Friday Sales EDA' yang diperoleh dari [link berikut](https://www.kaggle.com/datasets/pranavuikey/black-friday-sales-eda). Mengutip dari laman sumber data, data ini merupakan ringkasan pembelian produk terpilih dengan volume tinggi oleh berbagai pelanggan dari perusahaan ritel \"ABC Private Limited\"."
      ],
      "metadata": {
        "id": "jWG6uojCKpeG"
      }
    },
    {
      "cell_type": "markdown",
      "source": [
        "## **Objective**"
      ],
      "metadata": {
        "id": "HgEvOSDJQAGr"
      }
    },
    {
      "cell_type": "markdown",
      "source": [
        "Memprediksi besarnya pembelian yang akan dilakukan oleh customer ritel \"ABC Private Limited\"."
      ],
      "metadata": {
        "id": "TLgumSaQQH6L"
      }
    },
    {
      "cell_type": "markdown",
      "source": [
        "# **II. Import Libraries**"
      ],
      "metadata": {
        "id": "9SPnXC7MRsyg"
      }
    },
    {
      "cell_type": "code",
      "source": [
        "# Import Libraries\n",
        "\n",
        "import pandas as pd\n",
        "import numpy as np\n",
        "import matplotlib.pyplot as plt\n",
        "import seaborn as sns\n",
        "plt.style.use('fivethirtyeight')\n",
        "\n",
        "\n",
        "from numpy import array \n",
        "from scipy import stats\n",
        "from sklearn.model_selection import train_test_split\n",
        "from sklearn.impute import SimpleImputer\n",
        "from sklearn.preprocessing import OneHotEncoder, OrdinalEncoder, StandardScaler, MinMaxScaler\n",
        "from sklearn.compose import ColumnTransformer\n",
        "from sklearn.pipeline import Pipeline\n",
        "\n",
        "\n",
        "from sklearn.linear_model import LinearRegression\n",
        "from sklearn.linear_model import LogisticRegression\n",
        "from sklearn.tree import DecisionTreeRegressor\n",
        "from sklearn.ensemble import RandomForestRegressor\n",
        "from sklearn.svm import SVR\n",
        "\n",
        "\n",
        "from sklearn import metrics\n",
        "from sklearn.metrics import mean_absolute_error, mean_squared_error, r2_score\n",
        "from sklearn.model_selection import GridSearchCV\n",
        "from sklearn.model_selection import RandomizedSearchCV\n",
        "\n",
        "\n",
        "import joblib\n",
        "import json\n",
        "import warnings\n",
        "warnings.filterwarnings(\"ignore\")"
      ],
      "metadata": {
        "id": "URIEobttRqVM"
      },
      "execution_count": 97,
      "outputs": []
    },
    {
      "cell_type": "markdown",
      "source": [
        "# **III. Data Loading**"
      ],
      "metadata": {
        "id": "bDetn0RNRxDJ"
      }
    },
    {
      "cell_type": "code",
      "source": [
        "# Loading Dataset\n",
        "data = pd.read_csv('/content/drive/MyDrive/bq-results-20221121-072603-1669016735963/train.csv')\n",
        "data.head()"
      ],
      "metadata": {
        "colab": {
          "base_uri": "https://localhost:8080/",
          "height": 340
        },
        "id": "GKeNBk_2R3cW",
        "outputId": "71e5200a-fa07-41d2-f071-a920c782dfc8"
      },
      "execution_count": 2,
      "outputs": [
        {
          "output_type": "execute_result",
          "data": {
            "text/plain": [
              "   User_ID Product_ID Gender   Age  Occupation City_Category  \\\n",
              "0  1000001  P00069042      F  0-17          10             A   \n",
              "1  1000001  P00248942      F  0-17          10             A   \n",
              "2  1000001  P00087842      F  0-17          10             A   \n",
              "3  1000001  P00085442      F  0-17          10             A   \n",
              "4  1000002  P00285442      M   55+          16             C   \n",
              "\n",
              "  Stay_In_Current_City_Years  Marital_Status  Product_Category_1  \\\n",
              "0                          2               0                   3   \n",
              "1                          2               0                   1   \n",
              "2                          2               0                  12   \n",
              "3                          2               0                  12   \n",
              "4                         4+               0                   8   \n",
              "\n",
              "   Product_Category_2  Product_Category_3  Purchase  \n",
              "0                 NaN                 NaN      8370  \n",
              "1                 6.0                14.0     15200  \n",
              "2                 NaN                 NaN      1422  \n",
              "3                14.0                 NaN      1057  \n",
              "4                 NaN                 NaN      7969  "
            ],
            "text/html": [
              "\n",
              "  <div id=\"df-6859e6a6-9c4c-4b40-bb62-e91a038052b2\">\n",
              "    <div class=\"colab-df-container\">\n",
              "      <div>\n",
              "<style scoped>\n",
              "    .dataframe tbody tr th:only-of-type {\n",
              "        vertical-align: middle;\n",
              "    }\n",
              "\n",
              "    .dataframe tbody tr th {\n",
              "        vertical-align: top;\n",
              "    }\n",
              "\n",
              "    .dataframe thead th {\n",
              "        text-align: right;\n",
              "    }\n",
              "</style>\n",
              "<table border=\"1\" class=\"dataframe\">\n",
              "  <thead>\n",
              "    <tr style=\"text-align: right;\">\n",
              "      <th></th>\n",
              "      <th>User_ID</th>\n",
              "      <th>Product_ID</th>\n",
              "      <th>Gender</th>\n",
              "      <th>Age</th>\n",
              "      <th>Occupation</th>\n",
              "      <th>City_Category</th>\n",
              "      <th>Stay_In_Current_City_Years</th>\n",
              "      <th>Marital_Status</th>\n",
              "      <th>Product_Category_1</th>\n",
              "      <th>Product_Category_2</th>\n",
              "      <th>Product_Category_3</th>\n",
              "      <th>Purchase</th>\n",
              "    </tr>\n",
              "  </thead>\n",
              "  <tbody>\n",
              "    <tr>\n",
              "      <th>0</th>\n",
              "      <td>1000001</td>\n",
              "      <td>P00069042</td>\n",
              "      <td>F</td>\n",
              "      <td>0-17</td>\n",
              "      <td>10</td>\n",
              "      <td>A</td>\n",
              "      <td>2</td>\n",
              "      <td>0</td>\n",
              "      <td>3</td>\n",
              "      <td>NaN</td>\n",
              "      <td>NaN</td>\n",
              "      <td>8370</td>\n",
              "    </tr>\n",
              "    <tr>\n",
              "      <th>1</th>\n",
              "      <td>1000001</td>\n",
              "      <td>P00248942</td>\n",
              "      <td>F</td>\n",
              "      <td>0-17</td>\n",
              "      <td>10</td>\n",
              "      <td>A</td>\n",
              "      <td>2</td>\n",
              "      <td>0</td>\n",
              "      <td>1</td>\n",
              "      <td>6.0</td>\n",
              "      <td>14.0</td>\n",
              "      <td>15200</td>\n",
              "    </tr>\n",
              "    <tr>\n",
              "      <th>2</th>\n",
              "      <td>1000001</td>\n",
              "      <td>P00087842</td>\n",
              "      <td>F</td>\n",
              "      <td>0-17</td>\n",
              "      <td>10</td>\n",
              "      <td>A</td>\n",
              "      <td>2</td>\n",
              "      <td>0</td>\n",
              "      <td>12</td>\n",
              "      <td>NaN</td>\n",
              "      <td>NaN</td>\n",
              "      <td>1422</td>\n",
              "    </tr>\n",
              "    <tr>\n",
              "      <th>3</th>\n",
              "      <td>1000001</td>\n",
              "      <td>P00085442</td>\n",
              "      <td>F</td>\n",
              "      <td>0-17</td>\n",
              "      <td>10</td>\n",
              "      <td>A</td>\n",
              "      <td>2</td>\n",
              "      <td>0</td>\n",
              "      <td>12</td>\n",
              "      <td>14.0</td>\n",
              "      <td>NaN</td>\n",
              "      <td>1057</td>\n",
              "    </tr>\n",
              "    <tr>\n",
              "      <th>4</th>\n",
              "      <td>1000002</td>\n",
              "      <td>P00285442</td>\n",
              "      <td>M</td>\n",
              "      <td>55+</td>\n",
              "      <td>16</td>\n",
              "      <td>C</td>\n",
              "      <td>4+</td>\n",
              "      <td>0</td>\n",
              "      <td>8</td>\n",
              "      <td>NaN</td>\n",
              "      <td>NaN</td>\n",
              "      <td>7969</td>\n",
              "    </tr>\n",
              "  </tbody>\n",
              "</table>\n",
              "</div>\n",
              "      <button class=\"colab-df-convert\" onclick=\"convertToInteractive('df-6859e6a6-9c4c-4b40-bb62-e91a038052b2')\"\n",
              "              title=\"Convert this dataframe to an interactive table.\"\n",
              "              style=\"display:none;\">\n",
              "        \n",
              "  <svg xmlns=\"http://www.w3.org/2000/svg\" height=\"24px\"viewBox=\"0 0 24 24\"\n",
              "       width=\"24px\">\n",
              "    <path d=\"M0 0h24v24H0V0z\" fill=\"none\"/>\n",
              "    <path d=\"M18.56 5.44l.94 2.06.94-2.06 2.06-.94-2.06-.94-.94-2.06-.94 2.06-2.06.94zm-11 1L8.5 8.5l.94-2.06 2.06-.94-2.06-.94L8.5 2.5l-.94 2.06-2.06.94zm10 10l.94 2.06.94-2.06 2.06-.94-2.06-.94-.94-2.06-.94 2.06-2.06.94z\"/><path d=\"M17.41 7.96l-1.37-1.37c-.4-.4-.92-.59-1.43-.59-.52 0-1.04.2-1.43.59L10.3 9.45l-7.72 7.72c-.78.78-.78 2.05 0 2.83L4 21.41c.39.39.9.59 1.41.59.51 0 1.02-.2 1.41-.59l7.78-7.78 2.81-2.81c.8-.78.8-2.07 0-2.86zM5.41 20L4 18.59l7.72-7.72 1.47 1.35L5.41 20z\"/>\n",
              "  </svg>\n",
              "      </button>\n",
              "      \n",
              "  <style>\n",
              "    .colab-df-container {\n",
              "      display:flex;\n",
              "      flex-wrap:wrap;\n",
              "      gap: 12px;\n",
              "    }\n",
              "\n",
              "    .colab-df-convert {\n",
              "      background-color: #E8F0FE;\n",
              "      border: none;\n",
              "      border-radius: 50%;\n",
              "      cursor: pointer;\n",
              "      display: none;\n",
              "      fill: #1967D2;\n",
              "      height: 32px;\n",
              "      padding: 0 0 0 0;\n",
              "      width: 32px;\n",
              "    }\n",
              "\n",
              "    .colab-df-convert:hover {\n",
              "      background-color: #E2EBFA;\n",
              "      box-shadow: 0px 1px 2px rgba(60, 64, 67, 0.3), 0px 1px 3px 1px rgba(60, 64, 67, 0.15);\n",
              "      fill: #174EA6;\n",
              "    }\n",
              "\n",
              "    [theme=dark] .colab-df-convert {\n",
              "      background-color: #3B4455;\n",
              "      fill: #D2E3FC;\n",
              "    }\n",
              "\n",
              "    [theme=dark] .colab-df-convert:hover {\n",
              "      background-color: #434B5C;\n",
              "      box-shadow: 0px 1px 3px 1px rgba(0, 0, 0, 0.15);\n",
              "      filter: drop-shadow(0px 1px 2px rgba(0, 0, 0, 0.3));\n",
              "      fill: #FFFFFF;\n",
              "    }\n",
              "  </style>\n",
              "\n",
              "      <script>\n",
              "        const buttonEl =\n",
              "          document.querySelector('#df-6859e6a6-9c4c-4b40-bb62-e91a038052b2 button.colab-df-convert');\n",
              "        buttonEl.style.display =\n",
              "          google.colab.kernel.accessAllowed ? 'block' : 'none';\n",
              "\n",
              "        async function convertToInteractive(key) {\n",
              "          const element = document.querySelector('#df-6859e6a6-9c4c-4b40-bb62-e91a038052b2');\n",
              "          const dataTable =\n",
              "            await google.colab.kernel.invokeFunction('convertToInteractive',\n",
              "                                                     [key], {});\n",
              "          if (!dataTable) return;\n",
              "\n",
              "          const docLinkHtml = 'Like what you see? Visit the ' +\n",
              "            '<a target=\"_blank\" href=https://colab.research.google.com/notebooks/data_table.ipynb>data table notebook</a>'\n",
              "            + ' to learn more about interactive tables.';\n",
              "          element.innerHTML = '';\n",
              "          dataTable['output_type'] = 'display_data';\n",
              "          await google.colab.output.renderOutput(dataTable, element);\n",
              "          const docLink = document.createElement('div');\n",
              "          docLink.innerHTML = docLinkHtml;\n",
              "          element.appendChild(docLink);\n",
              "        }\n",
              "      </script>\n",
              "    </div>\n",
              "  </div>\n",
              "  "
            ]
          },
          "metadata": {},
          "execution_count": 2
        }
      ]
    },
    {
      "cell_type": "code",
      "source": [
        "#Show the last 5 rows of the data\n",
        "data.tail()"
      ],
      "metadata": {
        "colab": {
          "base_uri": "https://localhost:8080/",
          "height": 340
        },
        "id": "devoSBwRDO8_",
        "outputId": "3ff90384-f5c5-436a-c609-eb6fefa084d3"
      },
      "execution_count": 3,
      "outputs": [
        {
          "output_type": "execute_result",
          "data": {
            "text/plain": [
              "        User_ID Product_ID Gender    Age  Occupation City_Category  \\\n",
              "550063  1006033  P00372445      M  51-55          13             B   \n",
              "550064  1006035  P00375436      F  26-35           1             C   \n",
              "550065  1006036  P00375436      F  26-35          15             B   \n",
              "550066  1006038  P00375436      F    55+           1             C   \n",
              "550067  1006039  P00371644      F  46-50           0             B   \n",
              "\n",
              "       Stay_In_Current_City_Years  Marital_Status  Product_Category_1  \\\n",
              "550063                          1               1                  20   \n",
              "550064                          3               0                  20   \n",
              "550065                         4+               1                  20   \n",
              "550066                          2               0                  20   \n",
              "550067                         4+               1                  20   \n",
              "\n",
              "        Product_Category_2  Product_Category_3  Purchase  \n",
              "550063                 NaN                 NaN       368  \n",
              "550064                 NaN                 NaN       371  \n",
              "550065                 NaN                 NaN       137  \n",
              "550066                 NaN                 NaN       365  \n",
              "550067                 NaN                 NaN       490  "
            ],
            "text/html": [
              "\n",
              "  <div id=\"df-61db6847-fbe6-44f1-9208-0a42db4b078b\">\n",
              "    <div class=\"colab-df-container\">\n",
              "      <div>\n",
              "<style scoped>\n",
              "    .dataframe tbody tr th:only-of-type {\n",
              "        vertical-align: middle;\n",
              "    }\n",
              "\n",
              "    .dataframe tbody tr th {\n",
              "        vertical-align: top;\n",
              "    }\n",
              "\n",
              "    .dataframe thead th {\n",
              "        text-align: right;\n",
              "    }\n",
              "</style>\n",
              "<table border=\"1\" class=\"dataframe\">\n",
              "  <thead>\n",
              "    <tr style=\"text-align: right;\">\n",
              "      <th></th>\n",
              "      <th>User_ID</th>\n",
              "      <th>Product_ID</th>\n",
              "      <th>Gender</th>\n",
              "      <th>Age</th>\n",
              "      <th>Occupation</th>\n",
              "      <th>City_Category</th>\n",
              "      <th>Stay_In_Current_City_Years</th>\n",
              "      <th>Marital_Status</th>\n",
              "      <th>Product_Category_1</th>\n",
              "      <th>Product_Category_2</th>\n",
              "      <th>Product_Category_3</th>\n",
              "      <th>Purchase</th>\n",
              "    </tr>\n",
              "  </thead>\n",
              "  <tbody>\n",
              "    <tr>\n",
              "      <th>550063</th>\n",
              "      <td>1006033</td>\n",
              "      <td>P00372445</td>\n",
              "      <td>M</td>\n",
              "      <td>51-55</td>\n",
              "      <td>13</td>\n",
              "      <td>B</td>\n",
              "      <td>1</td>\n",
              "      <td>1</td>\n",
              "      <td>20</td>\n",
              "      <td>NaN</td>\n",
              "      <td>NaN</td>\n",
              "      <td>368</td>\n",
              "    </tr>\n",
              "    <tr>\n",
              "      <th>550064</th>\n",
              "      <td>1006035</td>\n",
              "      <td>P00375436</td>\n",
              "      <td>F</td>\n",
              "      <td>26-35</td>\n",
              "      <td>1</td>\n",
              "      <td>C</td>\n",
              "      <td>3</td>\n",
              "      <td>0</td>\n",
              "      <td>20</td>\n",
              "      <td>NaN</td>\n",
              "      <td>NaN</td>\n",
              "      <td>371</td>\n",
              "    </tr>\n",
              "    <tr>\n",
              "      <th>550065</th>\n",
              "      <td>1006036</td>\n",
              "      <td>P00375436</td>\n",
              "      <td>F</td>\n",
              "      <td>26-35</td>\n",
              "      <td>15</td>\n",
              "      <td>B</td>\n",
              "      <td>4+</td>\n",
              "      <td>1</td>\n",
              "      <td>20</td>\n",
              "      <td>NaN</td>\n",
              "      <td>NaN</td>\n",
              "      <td>137</td>\n",
              "    </tr>\n",
              "    <tr>\n",
              "      <th>550066</th>\n",
              "      <td>1006038</td>\n",
              "      <td>P00375436</td>\n",
              "      <td>F</td>\n",
              "      <td>55+</td>\n",
              "      <td>1</td>\n",
              "      <td>C</td>\n",
              "      <td>2</td>\n",
              "      <td>0</td>\n",
              "      <td>20</td>\n",
              "      <td>NaN</td>\n",
              "      <td>NaN</td>\n",
              "      <td>365</td>\n",
              "    </tr>\n",
              "    <tr>\n",
              "      <th>550067</th>\n",
              "      <td>1006039</td>\n",
              "      <td>P00371644</td>\n",
              "      <td>F</td>\n",
              "      <td>46-50</td>\n",
              "      <td>0</td>\n",
              "      <td>B</td>\n",
              "      <td>4+</td>\n",
              "      <td>1</td>\n",
              "      <td>20</td>\n",
              "      <td>NaN</td>\n",
              "      <td>NaN</td>\n",
              "      <td>490</td>\n",
              "    </tr>\n",
              "  </tbody>\n",
              "</table>\n",
              "</div>\n",
              "      <button class=\"colab-df-convert\" onclick=\"convertToInteractive('df-61db6847-fbe6-44f1-9208-0a42db4b078b')\"\n",
              "              title=\"Convert this dataframe to an interactive table.\"\n",
              "              style=\"display:none;\">\n",
              "        \n",
              "  <svg xmlns=\"http://www.w3.org/2000/svg\" height=\"24px\"viewBox=\"0 0 24 24\"\n",
              "       width=\"24px\">\n",
              "    <path d=\"M0 0h24v24H0V0z\" fill=\"none\"/>\n",
              "    <path d=\"M18.56 5.44l.94 2.06.94-2.06 2.06-.94-2.06-.94-.94-2.06-.94 2.06-2.06.94zm-11 1L8.5 8.5l.94-2.06 2.06-.94-2.06-.94L8.5 2.5l-.94 2.06-2.06.94zm10 10l.94 2.06.94-2.06 2.06-.94-2.06-.94-.94-2.06-.94 2.06-2.06.94z\"/><path d=\"M17.41 7.96l-1.37-1.37c-.4-.4-.92-.59-1.43-.59-.52 0-1.04.2-1.43.59L10.3 9.45l-7.72 7.72c-.78.78-.78 2.05 0 2.83L4 21.41c.39.39.9.59 1.41.59.51 0 1.02-.2 1.41-.59l7.78-7.78 2.81-2.81c.8-.78.8-2.07 0-2.86zM5.41 20L4 18.59l7.72-7.72 1.47 1.35L5.41 20z\"/>\n",
              "  </svg>\n",
              "      </button>\n",
              "      \n",
              "  <style>\n",
              "    .colab-df-container {\n",
              "      display:flex;\n",
              "      flex-wrap:wrap;\n",
              "      gap: 12px;\n",
              "    }\n",
              "\n",
              "    .colab-df-convert {\n",
              "      background-color: #E8F0FE;\n",
              "      border: none;\n",
              "      border-radius: 50%;\n",
              "      cursor: pointer;\n",
              "      display: none;\n",
              "      fill: #1967D2;\n",
              "      height: 32px;\n",
              "      padding: 0 0 0 0;\n",
              "      width: 32px;\n",
              "    }\n",
              "\n",
              "    .colab-df-convert:hover {\n",
              "      background-color: #E2EBFA;\n",
              "      box-shadow: 0px 1px 2px rgba(60, 64, 67, 0.3), 0px 1px 3px 1px rgba(60, 64, 67, 0.15);\n",
              "      fill: #174EA6;\n",
              "    }\n",
              "\n",
              "    [theme=dark] .colab-df-convert {\n",
              "      background-color: #3B4455;\n",
              "      fill: #D2E3FC;\n",
              "    }\n",
              "\n",
              "    [theme=dark] .colab-df-convert:hover {\n",
              "      background-color: #434B5C;\n",
              "      box-shadow: 0px 1px 3px 1px rgba(0, 0, 0, 0.15);\n",
              "      filter: drop-shadow(0px 1px 2px rgba(0, 0, 0, 0.3));\n",
              "      fill: #FFFFFF;\n",
              "    }\n",
              "  </style>\n",
              "\n",
              "      <script>\n",
              "        const buttonEl =\n",
              "          document.querySelector('#df-61db6847-fbe6-44f1-9208-0a42db4b078b button.colab-df-convert');\n",
              "        buttonEl.style.display =\n",
              "          google.colab.kernel.accessAllowed ? 'block' : 'none';\n",
              "\n",
              "        async function convertToInteractive(key) {\n",
              "          const element = document.querySelector('#df-61db6847-fbe6-44f1-9208-0a42db4b078b');\n",
              "          const dataTable =\n",
              "            await google.colab.kernel.invokeFunction('convertToInteractive',\n",
              "                                                     [key], {});\n",
              "          if (!dataTable) return;\n",
              "\n",
              "          const docLinkHtml = 'Like what you see? Visit the ' +\n",
              "            '<a target=\"_blank\" href=https://colab.research.google.com/notebooks/data_table.ipynb>data table notebook</a>'\n",
              "            + ' to learn more about interactive tables.';\n",
              "          element.innerHTML = '';\n",
              "          dataTable['output_type'] = 'display_data';\n",
              "          await google.colab.output.renderOutput(dataTable, element);\n",
              "          const docLink = document.createElement('div');\n",
              "          docLink.innerHTML = docLinkHtml;\n",
              "          element.appendChild(docLink);\n",
              "        }\n",
              "      </script>\n",
              "    </div>\n",
              "  </div>\n",
              "  "
            ]
          },
          "metadata": {},
          "execution_count": 3
        }
      ]
    },
    {
      "cell_type": "code",
      "source": [
        "# Make a copy\n",
        "data2 = data.copy()"
      ],
      "metadata": {
        "id": "4k8BBm2drmVj"
      },
      "execution_count": 4,
      "outputs": []
    },
    {
      "cell_type": "markdown",
      "source": [
        "Berdasarkan tampilan 5 baris data teratas dan 5 baris data terbawah dapat terlihat bahwa kolom `Product_ID`, `Gender`, `City_Category`, dan\t`Stay_In_Current_City_Years` merupakan data kategorikal. Kolom `Age` merupakan data interval, dan terlihat missing values pada kolom product_category_2 dan product_category_3. Untuk lebih memastikan, dapat dilihat dari informasi data."
      ],
      "metadata": {
        "id": "Gi2Y5HsNRz8-"
      }
    },
    {
      "cell_type": "code",
      "execution_count": 5,
      "metadata": {
        "colab": {
          "base_uri": "https://localhost:8080/"
        },
        "id": "WKlBz-tQD8Dm",
        "outputId": "1b9549ad-8c39-4937-9e3d-863b5f5a87f3"
      },
      "outputs": [
        {
          "output_type": "stream",
          "name": "stdout",
          "text": [
            "<class 'pandas.core.frame.DataFrame'>\n",
            "RangeIndex: 550068 entries, 0 to 550067\n",
            "Data columns (total 12 columns):\n",
            " #   Column                      Non-Null Count   Dtype  \n",
            "---  ------                      --------------   -----  \n",
            " 0   User_ID                     550068 non-null  int64  \n",
            " 1   Product_ID                  550068 non-null  object \n",
            " 2   Gender                      550068 non-null  object \n",
            " 3   Age                         550068 non-null  object \n",
            " 4   Occupation                  550068 non-null  int64  \n",
            " 5   City_Category               550068 non-null  object \n",
            " 6   Stay_In_Current_City_Years  550068 non-null  object \n",
            " 7   Marital_Status              550068 non-null  int64  \n",
            " 8   Product_Category_1          550068 non-null  int64  \n",
            " 9   Product_Category_2          376430 non-null  float64\n",
            " 10  Product_Category_3          166821 non-null  float64\n",
            " 11  Purchase                    550068 non-null  int64  \n",
            "dtypes: float64(2), int64(5), object(5)\n",
            "memory usage: 50.4+ MB\n"
          ]
        }
      ],
      "source": [
        "# Data Information\n",
        "data.info()"
      ]
    },
    {
      "cell_type": "markdown",
      "source": [
        "Berdasarkan informasi data di atas, dapat diketahui bahwa terdapat 12 kolom dan 550068 baris pada dataset ini. Missing values terdeteksi pada kolom `product_category_2` dan `product_category_3`.  Sebanyak 5 kolom memiliki tipe data integer, 5 kolom merupakan data dengan tipe object, dan 2 lainnya adalah tipe data float. \n",
        "<br>\n",
        "Jumlah data yang cukup banyak dan waktu yang terbatas menyebabkan akan dilakukannya penghapusan agar dapat mengilustrasikan hasilnya dengan baik."
      ],
      "metadata": {
        "id": "fk1TAInV8XfL"
      }
    },
    {
      "cell_type": "code",
      "source": [
        "# Drop Rows with Index 0-540000\n",
        "data.drop(data.loc[0:540000].index, inplace=True)"
      ],
      "metadata": {
        "id": "gdSaDzLAooh3"
      },
      "execution_count": 6,
      "outputs": []
    },
    {
      "cell_type": "code",
      "source": [
        "# Reset Data Index\n",
        "data.reset_index(drop=True, inplace=True)"
      ],
      "metadata": {
        "id": "D6TJQ2mirK2s"
      },
      "execution_count": 7,
      "outputs": []
    },
    {
      "cell_type": "code",
      "source": [
        "# Load Data After Removal\n",
        "data.head()"
      ],
      "metadata": {
        "colab": {
          "base_uri": "https://localhost:8080/",
          "height": 357
        },
        "id": "0XdJbw5zpbmu",
        "outputId": "3071e6a5-abf0-450e-cf05-89b798f6d927"
      },
      "execution_count": 8,
      "outputs": [
        {
          "output_type": "execute_result",
          "data": {
            "text/plain": [
              "   User_ID Product_ID Gender    Age  Occupation City_Category  \\\n",
              "0  1005124  P00100842      M  36-45           2             B   \n",
              "1  1005126  P00021042      M  26-35          11             B   \n",
              "2  1005126  P00329442      M  26-35          11             B   \n",
              "3  1005126  P00210942      M  26-35          11             B   \n",
              "4  1005126  P00128342      M  26-35          11             B   \n",
              "\n",
              "  Stay_In_Current_City_Years  Marital_Status  Product_Category_1  \\\n",
              "0                          1               0                   5   \n",
              "1                         4+               0                   8   \n",
              "2                         4+               0                   5   \n",
              "3                         4+               0                   5   \n",
              "4                         4+               0                   5   \n",
              "\n",
              "   Product_Category_2  Product_Category_3  Purchase  \n",
              "0                 NaN                 NaN      5210  \n",
              "1                14.0                 NaN      9885  \n",
              "2                 8.0                 NaN      7179  \n",
              "3                12.0                 NaN      5213  \n",
              "4                12.0                14.0      3571  "
            ],
            "text/html": [
              "\n",
              "  <div id=\"df-2232f65d-58e3-4fab-8002-4fb983046c78\">\n",
              "    <div class=\"colab-df-container\">\n",
              "      <div>\n",
              "<style scoped>\n",
              "    .dataframe tbody tr th:only-of-type {\n",
              "        vertical-align: middle;\n",
              "    }\n",
              "\n",
              "    .dataframe tbody tr th {\n",
              "        vertical-align: top;\n",
              "    }\n",
              "\n",
              "    .dataframe thead th {\n",
              "        text-align: right;\n",
              "    }\n",
              "</style>\n",
              "<table border=\"1\" class=\"dataframe\">\n",
              "  <thead>\n",
              "    <tr style=\"text-align: right;\">\n",
              "      <th></th>\n",
              "      <th>User_ID</th>\n",
              "      <th>Product_ID</th>\n",
              "      <th>Gender</th>\n",
              "      <th>Age</th>\n",
              "      <th>Occupation</th>\n",
              "      <th>City_Category</th>\n",
              "      <th>Stay_In_Current_City_Years</th>\n",
              "      <th>Marital_Status</th>\n",
              "      <th>Product_Category_1</th>\n",
              "      <th>Product_Category_2</th>\n",
              "      <th>Product_Category_3</th>\n",
              "      <th>Purchase</th>\n",
              "    </tr>\n",
              "  </thead>\n",
              "  <tbody>\n",
              "    <tr>\n",
              "      <th>0</th>\n",
              "      <td>1005124</td>\n",
              "      <td>P00100842</td>\n",
              "      <td>M</td>\n",
              "      <td>36-45</td>\n",
              "      <td>2</td>\n",
              "      <td>B</td>\n",
              "      <td>1</td>\n",
              "      <td>0</td>\n",
              "      <td>5</td>\n",
              "      <td>NaN</td>\n",
              "      <td>NaN</td>\n",
              "      <td>5210</td>\n",
              "    </tr>\n",
              "    <tr>\n",
              "      <th>1</th>\n",
              "      <td>1005126</td>\n",
              "      <td>P00021042</td>\n",
              "      <td>M</td>\n",
              "      <td>26-35</td>\n",
              "      <td>11</td>\n",
              "      <td>B</td>\n",
              "      <td>4+</td>\n",
              "      <td>0</td>\n",
              "      <td>8</td>\n",
              "      <td>14.0</td>\n",
              "      <td>NaN</td>\n",
              "      <td>9885</td>\n",
              "    </tr>\n",
              "    <tr>\n",
              "      <th>2</th>\n",
              "      <td>1005126</td>\n",
              "      <td>P00329442</td>\n",
              "      <td>M</td>\n",
              "      <td>26-35</td>\n",
              "      <td>11</td>\n",
              "      <td>B</td>\n",
              "      <td>4+</td>\n",
              "      <td>0</td>\n",
              "      <td>5</td>\n",
              "      <td>8.0</td>\n",
              "      <td>NaN</td>\n",
              "      <td>7179</td>\n",
              "    </tr>\n",
              "    <tr>\n",
              "      <th>3</th>\n",
              "      <td>1005126</td>\n",
              "      <td>P00210942</td>\n",
              "      <td>M</td>\n",
              "      <td>26-35</td>\n",
              "      <td>11</td>\n",
              "      <td>B</td>\n",
              "      <td>4+</td>\n",
              "      <td>0</td>\n",
              "      <td>5</td>\n",
              "      <td>12.0</td>\n",
              "      <td>NaN</td>\n",
              "      <td>5213</td>\n",
              "    </tr>\n",
              "    <tr>\n",
              "      <th>4</th>\n",
              "      <td>1005126</td>\n",
              "      <td>P00128342</td>\n",
              "      <td>M</td>\n",
              "      <td>26-35</td>\n",
              "      <td>11</td>\n",
              "      <td>B</td>\n",
              "      <td>4+</td>\n",
              "      <td>0</td>\n",
              "      <td>5</td>\n",
              "      <td>12.0</td>\n",
              "      <td>14.0</td>\n",
              "      <td>3571</td>\n",
              "    </tr>\n",
              "  </tbody>\n",
              "</table>\n",
              "</div>\n",
              "      <button class=\"colab-df-convert\" onclick=\"convertToInteractive('df-2232f65d-58e3-4fab-8002-4fb983046c78')\"\n",
              "              title=\"Convert this dataframe to an interactive table.\"\n",
              "              style=\"display:none;\">\n",
              "        \n",
              "  <svg xmlns=\"http://www.w3.org/2000/svg\" height=\"24px\"viewBox=\"0 0 24 24\"\n",
              "       width=\"24px\">\n",
              "    <path d=\"M0 0h24v24H0V0z\" fill=\"none\"/>\n",
              "    <path d=\"M18.56 5.44l.94 2.06.94-2.06 2.06-.94-2.06-.94-.94-2.06-.94 2.06-2.06.94zm-11 1L8.5 8.5l.94-2.06 2.06-.94-2.06-.94L8.5 2.5l-.94 2.06-2.06.94zm10 10l.94 2.06.94-2.06 2.06-.94-2.06-.94-.94-2.06-.94 2.06-2.06.94z\"/><path d=\"M17.41 7.96l-1.37-1.37c-.4-.4-.92-.59-1.43-.59-.52 0-1.04.2-1.43.59L10.3 9.45l-7.72 7.72c-.78.78-.78 2.05 0 2.83L4 21.41c.39.39.9.59 1.41.59.51 0 1.02-.2 1.41-.59l7.78-7.78 2.81-2.81c.8-.78.8-2.07 0-2.86zM5.41 20L4 18.59l7.72-7.72 1.47 1.35L5.41 20z\"/>\n",
              "  </svg>\n",
              "      </button>\n",
              "      \n",
              "  <style>\n",
              "    .colab-df-container {\n",
              "      display:flex;\n",
              "      flex-wrap:wrap;\n",
              "      gap: 12px;\n",
              "    }\n",
              "\n",
              "    .colab-df-convert {\n",
              "      background-color: #E8F0FE;\n",
              "      border: none;\n",
              "      border-radius: 50%;\n",
              "      cursor: pointer;\n",
              "      display: none;\n",
              "      fill: #1967D2;\n",
              "      height: 32px;\n",
              "      padding: 0 0 0 0;\n",
              "      width: 32px;\n",
              "    }\n",
              "\n",
              "    .colab-df-convert:hover {\n",
              "      background-color: #E2EBFA;\n",
              "      box-shadow: 0px 1px 2px rgba(60, 64, 67, 0.3), 0px 1px 3px 1px rgba(60, 64, 67, 0.15);\n",
              "      fill: #174EA6;\n",
              "    }\n",
              "\n",
              "    [theme=dark] .colab-df-convert {\n",
              "      background-color: #3B4455;\n",
              "      fill: #D2E3FC;\n",
              "    }\n",
              "\n",
              "    [theme=dark] .colab-df-convert:hover {\n",
              "      background-color: #434B5C;\n",
              "      box-shadow: 0px 1px 3px 1px rgba(0, 0, 0, 0.15);\n",
              "      filter: drop-shadow(0px 1px 2px rgba(0, 0, 0, 0.3));\n",
              "      fill: #FFFFFF;\n",
              "    }\n",
              "  </style>\n",
              "\n",
              "      <script>\n",
              "        const buttonEl =\n",
              "          document.querySelector('#df-2232f65d-58e3-4fab-8002-4fb983046c78 button.colab-df-convert');\n",
              "        buttonEl.style.display =\n",
              "          google.colab.kernel.accessAllowed ? 'block' : 'none';\n",
              "\n",
              "        async function convertToInteractive(key) {\n",
              "          const element = document.querySelector('#df-2232f65d-58e3-4fab-8002-4fb983046c78');\n",
              "          const dataTable =\n",
              "            await google.colab.kernel.invokeFunction('convertToInteractive',\n",
              "                                                     [key], {});\n",
              "          if (!dataTable) return;\n",
              "\n",
              "          const docLinkHtml = 'Like what you see? Visit the ' +\n",
              "            '<a target=\"_blank\" href=https://colab.research.google.com/notebooks/data_table.ipynb>data table notebook</a>'\n",
              "            + ' to learn more about interactive tables.';\n",
              "          element.innerHTML = '';\n",
              "          dataTable['output_type'] = 'display_data';\n",
              "          await google.colab.output.renderOutput(dataTable, element);\n",
              "          const docLink = document.createElement('div');\n",
              "          docLink.innerHTML = docLinkHtml;\n",
              "          element.appendChild(docLink);\n",
              "        }\n",
              "      </script>\n",
              "    </div>\n",
              "  </div>\n",
              "  "
            ]
          },
          "metadata": {},
          "execution_count": 8
        }
      ]
    },
    {
      "cell_type": "code",
      "source": [
        "# Load Information After Removal\n",
        "data.info()"
      ],
      "metadata": {
        "colab": {
          "base_uri": "https://localhost:8080/"
        },
        "id": "3J_XaEIVr3yA",
        "outputId": "b12f44c9-40b5-4383-dc20-a307a9ff8371"
      },
      "execution_count": 9,
      "outputs": [
        {
          "output_type": "stream",
          "name": "stdout",
          "text": [
            "<class 'pandas.core.frame.DataFrame'>\n",
            "RangeIndex: 10067 entries, 0 to 10066\n",
            "Data columns (total 12 columns):\n",
            " #   Column                      Non-Null Count  Dtype  \n",
            "---  ------                      --------------  -----  \n",
            " 0   User_ID                     10067 non-null  int64  \n",
            " 1   Product_ID                  10067 non-null  object \n",
            " 2   Gender                      10067 non-null  object \n",
            " 3   Age                         10067 non-null  object \n",
            " 4   Occupation                  10067 non-null  int64  \n",
            " 5   City_Category               10067 non-null  object \n",
            " 6   Stay_In_Current_City_Years  10067 non-null  object \n",
            " 7   Marital_Status              10067 non-null  int64  \n",
            " 8   Product_Category_1          10067 non-null  int64  \n",
            " 9   Product_Category_2          4159 non-null   float64\n",
            " 10  Product_Category_3          1779 non-null   float64\n",
            " 11  Purchase                    10067 non-null  int64  \n",
            "dtypes: float64(2), int64(5), object(5)\n",
            "memory usage: 943.9+ KB\n"
          ]
        }
      ]
    },
    {
      "cell_type": "markdown",
      "source": [
        "Saat ini, data yang akan digunakan memiliki 10067 baris dan terdapat missing values pada kolom `Product_Category_2` dan `Product_Category_3."
      ],
      "metadata": {
        "id": "rQUHmyzTsP_b"
      }
    },
    {
      "cell_type": "code",
      "source": [
        "# Data Summary\n",
        "data.describe()"
      ],
      "metadata": {
        "colab": {
          "base_uri": "https://localhost:8080/",
          "height": 300
        },
        "id": "BroK4QB_TRar",
        "outputId": "34b7695b-452e-418b-81fa-a1c6cf15d5c2"
      },
      "execution_count": 10,
      "outputs": [
        {
          "output_type": "execute_result",
          "data": {
            "text/plain": [
              "            User_ID    Occupation  Marital_Status  Product_Category_1  \\\n",
              "count  1.006700e+04  10067.000000    10067.000000        10067.000000   \n",
              "mean   1.004543e+06      7.864607        0.434489           11.212774   \n",
              "std    1.695967e+03      6.459755        0.495714            7.601647   \n",
              "min    1.000001e+06      0.000000        0.000000            1.000000   \n",
              "25%    1.003714e+06      2.000000        0.000000            5.000000   \n",
              "50%    1.005363e+06      7.000000        0.000000            8.000000   \n",
              "75%    1.005692e+06     14.000000        1.000000           20.000000   \n",
              "max    1.006040e+06     20.000000        1.000000           20.000000   \n",
              "\n",
              "       Product_Category_2  Product_Category_3      Purchase  \n",
              "count         4159.000000         1779.000000  10067.000000  \n",
              "mean             9.872325           12.515458   5546.498063  \n",
              "std              5.055993            4.231512   5840.593604  \n",
              "min              2.000000            3.000000     12.000000  \n",
              "25%              5.000000            9.000000    256.000000  \n",
              "50%              9.000000           14.000000   4481.000000  \n",
              "75%             14.000000           16.000000   8741.000000  \n",
              "max             18.000000           18.000000  23945.000000  "
            ],
            "text/html": [
              "\n",
              "  <div id=\"df-c1c96892-b21a-4538-955a-cf0607b37763\">\n",
              "    <div class=\"colab-df-container\">\n",
              "      <div>\n",
              "<style scoped>\n",
              "    .dataframe tbody tr th:only-of-type {\n",
              "        vertical-align: middle;\n",
              "    }\n",
              "\n",
              "    .dataframe tbody tr th {\n",
              "        vertical-align: top;\n",
              "    }\n",
              "\n",
              "    .dataframe thead th {\n",
              "        text-align: right;\n",
              "    }\n",
              "</style>\n",
              "<table border=\"1\" class=\"dataframe\">\n",
              "  <thead>\n",
              "    <tr style=\"text-align: right;\">\n",
              "      <th></th>\n",
              "      <th>User_ID</th>\n",
              "      <th>Occupation</th>\n",
              "      <th>Marital_Status</th>\n",
              "      <th>Product_Category_1</th>\n",
              "      <th>Product_Category_2</th>\n",
              "      <th>Product_Category_3</th>\n",
              "      <th>Purchase</th>\n",
              "    </tr>\n",
              "  </thead>\n",
              "  <tbody>\n",
              "    <tr>\n",
              "      <th>count</th>\n",
              "      <td>1.006700e+04</td>\n",
              "      <td>10067.000000</td>\n",
              "      <td>10067.000000</td>\n",
              "      <td>10067.000000</td>\n",
              "      <td>4159.000000</td>\n",
              "      <td>1779.000000</td>\n",
              "      <td>10067.000000</td>\n",
              "    </tr>\n",
              "    <tr>\n",
              "      <th>mean</th>\n",
              "      <td>1.004543e+06</td>\n",
              "      <td>7.864607</td>\n",
              "      <td>0.434489</td>\n",
              "      <td>11.212774</td>\n",
              "      <td>9.872325</td>\n",
              "      <td>12.515458</td>\n",
              "      <td>5546.498063</td>\n",
              "    </tr>\n",
              "    <tr>\n",
              "      <th>std</th>\n",
              "      <td>1.695967e+03</td>\n",
              "      <td>6.459755</td>\n",
              "      <td>0.495714</td>\n",
              "      <td>7.601647</td>\n",
              "      <td>5.055993</td>\n",
              "      <td>4.231512</td>\n",
              "      <td>5840.593604</td>\n",
              "    </tr>\n",
              "    <tr>\n",
              "      <th>min</th>\n",
              "      <td>1.000001e+06</td>\n",
              "      <td>0.000000</td>\n",
              "      <td>0.000000</td>\n",
              "      <td>1.000000</td>\n",
              "      <td>2.000000</td>\n",
              "      <td>3.000000</td>\n",
              "      <td>12.000000</td>\n",
              "    </tr>\n",
              "    <tr>\n",
              "      <th>25%</th>\n",
              "      <td>1.003714e+06</td>\n",
              "      <td>2.000000</td>\n",
              "      <td>0.000000</td>\n",
              "      <td>5.000000</td>\n",
              "      <td>5.000000</td>\n",
              "      <td>9.000000</td>\n",
              "      <td>256.000000</td>\n",
              "    </tr>\n",
              "    <tr>\n",
              "      <th>50%</th>\n",
              "      <td>1.005363e+06</td>\n",
              "      <td>7.000000</td>\n",
              "      <td>0.000000</td>\n",
              "      <td>8.000000</td>\n",
              "      <td>9.000000</td>\n",
              "      <td>14.000000</td>\n",
              "      <td>4481.000000</td>\n",
              "    </tr>\n",
              "    <tr>\n",
              "      <th>75%</th>\n",
              "      <td>1.005692e+06</td>\n",
              "      <td>14.000000</td>\n",
              "      <td>1.000000</td>\n",
              "      <td>20.000000</td>\n",
              "      <td>14.000000</td>\n",
              "      <td>16.000000</td>\n",
              "      <td>8741.000000</td>\n",
              "    </tr>\n",
              "    <tr>\n",
              "      <th>max</th>\n",
              "      <td>1.006040e+06</td>\n",
              "      <td>20.000000</td>\n",
              "      <td>1.000000</td>\n",
              "      <td>20.000000</td>\n",
              "      <td>18.000000</td>\n",
              "      <td>18.000000</td>\n",
              "      <td>23945.000000</td>\n",
              "    </tr>\n",
              "  </tbody>\n",
              "</table>\n",
              "</div>\n",
              "      <button class=\"colab-df-convert\" onclick=\"convertToInteractive('df-c1c96892-b21a-4538-955a-cf0607b37763')\"\n",
              "              title=\"Convert this dataframe to an interactive table.\"\n",
              "              style=\"display:none;\">\n",
              "        \n",
              "  <svg xmlns=\"http://www.w3.org/2000/svg\" height=\"24px\"viewBox=\"0 0 24 24\"\n",
              "       width=\"24px\">\n",
              "    <path d=\"M0 0h24v24H0V0z\" fill=\"none\"/>\n",
              "    <path d=\"M18.56 5.44l.94 2.06.94-2.06 2.06-.94-2.06-.94-.94-2.06-.94 2.06-2.06.94zm-11 1L8.5 8.5l.94-2.06 2.06-.94-2.06-.94L8.5 2.5l-.94 2.06-2.06.94zm10 10l.94 2.06.94-2.06 2.06-.94-2.06-.94-.94-2.06-.94 2.06-2.06.94z\"/><path d=\"M17.41 7.96l-1.37-1.37c-.4-.4-.92-.59-1.43-.59-.52 0-1.04.2-1.43.59L10.3 9.45l-7.72 7.72c-.78.78-.78 2.05 0 2.83L4 21.41c.39.39.9.59 1.41.59.51 0 1.02-.2 1.41-.59l7.78-7.78 2.81-2.81c.8-.78.8-2.07 0-2.86zM5.41 20L4 18.59l7.72-7.72 1.47 1.35L5.41 20z\"/>\n",
              "  </svg>\n",
              "      </button>\n",
              "      \n",
              "  <style>\n",
              "    .colab-df-container {\n",
              "      display:flex;\n",
              "      flex-wrap:wrap;\n",
              "      gap: 12px;\n",
              "    }\n",
              "\n",
              "    .colab-df-convert {\n",
              "      background-color: #E8F0FE;\n",
              "      border: none;\n",
              "      border-radius: 50%;\n",
              "      cursor: pointer;\n",
              "      display: none;\n",
              "      fill: #1967D2;\n",
              "      height: 32px;\n",
              "      padding: 0 0 0 0;\n",
              "      width: 32px;\n",
              "    }\n",
              "\n",
              "    .colab-df-convert:hover {\n",
              "      background-color: #E2EBFA;\n",
              "      box-shadow: 0px 1px 2px rgba(60, 64, 67, 0.3), 0px 1px 3px 1px rgba(60, 64, 67, 0.15);\n",
              "      fill: #174EA6;\n",
              "    }\n",
              "\n",
              "    [theme=dark] .colab-df-convert {\n",
              "      background-color: #3B4455;\n",
              "      fill: #D2E3FC;\n",
              "    }\n",
              "\n",
              "    [theme=dark] .colab-df-convert:hover {\n",
              "      background-color: #434B5C;\n",
              "      box-shadow: 0px 1px 3px 1px rgba(0, 0, 0, 0.15);\n",
              "      filter: drop-shadow(0px 1px 2px rgba(0, 0, 0, 0.3));\n",
              "      fill: #FFFFFF;\n",
              "    }\n",
              "  </style>\n",
              "\n",
              "      <script>\n",
              "        const buttonEl =\n",
              "          document.querySelector('#df-c1c96892-b21a-4538-955a-cf0607b37763 button.colab-df-convert');\n",
              "        buttonEl.style.display =\n",
              "          google.colab.kernel.accessAllowed ? 'block' : 'none';\n",
              "\n",
              "        async function convertToInteractive(key) {\n",
              "          const element = document.querySelector('#df-c1c96892-b21a-4538-955a-cf0607b37763');\n",
              "          const dataTable =\n",
              "            await google.colab.kernel.invokeFunction('convertToInteractive',\n",
              "                                                     [key], {});\n",
              "          if (!dataTable) return;\n",
              "\n",
              "          const docLinkHtml = 'Like what you see? Visit the ' +\n",
              "            '<a target=\"_blank\" href=https://colab.research.google.com/notebooks/data_table.ipynb>data table notebook</a>'\n",
              "            + ' to learn more about interactive tables.';\n",
              "          element.innerHTML = '';\n",
              "          dataTable['output_type'] = 'display_data';\n",
              "          await google.colab.output.renderOutput(dataTable, element);\n",
              "          const docLink = document.createElement('div');\n",
              "          docLink.innerHTML = docLinkHtml;\n",
              "          element.appendChild(docLink);\n",
              "        }\n",
              "      </script>\n",
              "    </div>\n",
              "  </div>\n",
              "  "
            ]
          },
          "metadata": {},
          "execution_count": 10
        }
      ]
    },
    {
      "cell_type": "markdown",
      "source": [
        "Berdasarkan ringkasan data , dapat terlihat bahwa terdapat 20 kategori produk dan setiap produk dapat terdiri atas 3 kategori. Rata-rata pengunjung melakukan pembelian sebanyak 8589."
      ],
      "metadata": {
        "id": "0msbP_Lc_fFo"
      }
    },
    {
      "cell_type": "markdown",
      "source": [
        "# **IV. Exploratory Data Analysis (EDA)**"
      ],
      "metadata": {
        "id": "XSyjlWIqDFdl"
      }
    },
    {
      "cell_type": "code",
      "source": [
        "# Total amount of female and male customer\n",
        "data['Gender'].value_counts()"
      ],
      "metadata": {
        "colab": {
          "base_uri": "https://localhost:8080/"
        },
        "id": "hFAUSs8mEiAD",
        "outputId": "cf09b45d-f660-4f54-d2b6-0e7067492cf8"
      },
      "execution_count": 11,
      "outputs": [
        {
          "output_type": "execute_result",
          "data": {
            "text/plain": [
              "M    7124\n",
              "F    2943\n",
              "Name: Gender, dtype: int64"
            ]
          },
          "metadata": {},
          "execution_count": 11
        }
      ]
    },
    {
      "cell_type": "code",
      "source": [
        "# Compare the Gender of Customers\n",
        "labels = ['Male', 'Female']\n",
        "size = data['Gender'].value_counts()\n",
        "colors = ['lightpink', 'lightblue']\n",
        "explode = [0, 0.001]\n",
        "\n",
        "plt.rcParams['figure.figsize'] = (9, 9)\n",
        "plt.pie(size, colors = colors, explode = explode, labels = labels, shadow = True, startangle = 90, autopct = '%.2f%%')\n",
        "plt.title('Gender of Customers', fontsize = 20)\n",
        "plt.axis('off')\n",
        "plt.legend()\n",
        "plt.show()"
      ],
      "metadata": {
        "colab": {
          "base_uri": "https://localhost:8080/",
          "height": 577
        },
        "id": "CO6i-p9jDi6M",
        "outputId": "8d60c8a0-54c4-439a-eb4e-b867c24e014d"
      },
      "execution_count": 12,
      "outputs": [
        {
          "output_type": "display_data",
          "data": {
            "text/plain": [
              "<Figure size 648x648 with 1 Axes>"
            ],
            "image/png": "[encoded data removed]"
          },
          "metadata": {}
        }
      ]
    },
    {
      "cell_type": "markdown",
      "source": [
        "Sebagian besar customer ritel \"ABC Private Limited\" adalah laki-laki dengan persentase mencapai 70%"
      ],
      "metadata": {
        "id": "p-z9rP0WQla6"
      }
    },
    {
      "cell_type": "code",
      "source": [
        "data[\"City_Category\"].value_counts()"
      ],
      "metadata": {
        "colab": {
          "base_uri": "https://localhost:8080/"
        },
        "id": "jzcXugSYlgUt",
        "outputId": "c823b88b-49de-4a27-f487-7bb83cfc3b95"
      },
      "execution_count": 13,
      "outputs": [
        {
          "output_type": "execute_result",
          "data": {
            "text/plain": [
              "C    3927\n",
              "B    3603\n",
              "A    2537\n",
              "Name: City_Category, dtype: int64"
            ]
          },
          "metadata": {},
          "execution_count": 13
        }
      ]
    },
    {
      "cell_type": "code",
      "source": [
        "# Distribution of Customer Location\n",
        "sns.countplot(data=data, y=\"City_Category\", hue=\"Stay_In_Current_City_Years\", palette='hsv')\n",
        "plt.title('Location of Customers', fontsize = 20)\n",
        "plt.show()"
      ],
      "metadata": {
        "colab": {
          "base_uri": "https://localhost:8080/",
          "height": 616
        },
        "id": "MlNGAMCaQrce",
        "outputId": "77f8e82c-3780-4bf8-d3ce-caa59a9abd45"
      },
      "execution_count": 14,
      "outputs": [
        {
          "output_type": "display_data",
          "data": {
            "text/plain": [
              "<Figure size 648x648 with 1 Axes>"
            ],
            "image/png": "[encoded data removed]"
          },
          "metadata": {}
        }
      ]
    },
    {
      "cell_type": "markdown",
      "source": [
        "Customer ritel \"ABC Private Limited\" berasal dari tiga wilayah yaitu wilayah a, B, dan C dengan jumlah terbanyaknya adalah penduduk yang tinggal selama setahun di wilayah masing-masing atau dapat dikatakan penduduk baru. Bisa jadi customer ini mencari kebutuhan untuk tempat tinggal mereka."
      ],
      "metadata": {
        "id": "Qzd2jtPwQ4QJ"
      }
    },
    {
      "cell_type": "code",
      "source": [
        "plt.figure(figsize=(15,8))\n",
        "sns.distplot(data['Purchase'])\n",
        "plt.title('Distribution of Purchase', fontsize = 20)\n",
        "plt.show()"
      ],
      "metadata": {
        "colab": {
          "base_uri": "https://localhost:8080/",
          "height": 558
        },
        "id": "8kAVK6UqkD-X",
        "outputId": "4f53d1a8-332e-45cd-a0e6-c4b25db3dd6a"
      },
      "execution_count": 15,
      "outputs": [
        {
          "output_type": "display_data",
          "data": {
            "text/plain": [
              "<Figure size 1080x576 with 1 Axes>"
            ],
            "image/png": "[encoded data removed]"
          },
          "metadata": {}
        }
      ]
    },
    {
      "cell_type": "code",
      "source": [
        "# Distribution of Age\n",
        "age = ['0-17', '18-25', '26-35', '36-45', '46-50', '51-55', '55+']\n",
        "plt.rcParams['figure.figsize'] = (15, 8)\n",
        "sns.countplot(data['Age'], order=age, color='lightgreen')\n",
        "plt.title('Distribution of Age', fontsize = 20)\n",
        "plt.show()"
      ],
      "metadata": {
        "colab": {
          "base_uri": "https://localhost:8080/",
          "height": 558
        },
        "id": "L0SnVjOuFjUv",
        "outputId": "c7a00a84-e5d0-48a3-cde4-2b39df9e1c22"
      },
      "execution_count": 16,
      "outputs": [
        {
          "output_type": "display_data",
          "data": {
            "text/plain": [
              "<Figure size 1080x576 with 1 Axes>"
            ],
            "image/png": "[encoded data removed]"
          },
          "metadata": {}
        }
      ]
    },
    {
      "cell_type": "markdown",
      "source": [
        "Sebagian besar ritel \"ABC Private Limited\" merupakan penduduk dengan usia 26-35 tahun yang merupakan usia pekerja yang aktif."
      ],
      "metadata": {
        "id": "sqM12BtjRPUl"
      }
    },
    {
      "cell_type": "code",
      "source": [
        "# Product Category and Purchase\n",
        "x = data['Product_Category_1']\n",
        "y = data['Purchase']\n",
        "\n",
        "sns.lineplot(x, y, color = 'orange')\n",
        "plt.title('Product Category and Purchase', fontsize = 20)\n",
        "plt.show()"
      ],
      "metadata": {
        "colab": {
          "base_uri": "https://localhost:8080/",
          "height": 558
        },
        "id": "QDmyIiMCGuHk",
        "outputId": "175a5063-e134-4fa3-bc8f-6c3bdae2b2a7"
      },
      "execution_count": 17,
      "outputs": [
        {
          "output_type": "display_data",
          "data": {
            "text/plain": [
              "<Figure size 1080x576 with 1 Axes>"
            ],
            "image/png": "[encoded data removed]"
          },
          "metadata": {}
        }
      ]
    },
    {
      "cell_type": "code",
      "source": [
        "%%time\n",
        "# Heatmap Correlation Matrix\n",
        "plt.figure(figsize=(15,10))\n",
        "sns.heatmap(data.corr(), annot=True, cmap='Blues', fmt='.2f')\n",
        "plt.show()"
      ],
      "metadata": {
        "colab": {
          "base_uri": "https://localhost:8080/",
          "height": 798
        },
        "id": "TVDyllacOLjT",
        "outputId": "810e07b6-222f-4b53-a273-48c16d9b5894"
      },
      "execution_count": 18,
      "outputs": [
        {
          "output_type": "display_data",
          "data": {
            "text/plain": [
              "<Figure size 1080x720 with 2 Axes>"
            ],
            "image/png": "[encoded data removed]"
          },
          "metadata": {}
        },
        {
          "output_type": "stream",
          "name": "stdout",
          "text": [
            "CPU times: user 519 ms, sys: 108 ms, total: 627 ms\n",
            "Wall time: 552 ms\n"
          ]
        }
      ]
    },
    {
      "cell_type": "markdown",
      "source": [
        "Hampir sebagian besar fitur memiliki korelasi antar fitur yang rendah selain antara Purchase dan User_ID, Product category 2 dan product category 3,dan product category 2 dan product categry 1"
      ],
      "metadata": {
        "id": "eSCxqG0QRZeA"
      }
    },
    {
      "cell_type": "markdown",
      "source": [
        "# **V. Data Preprocessing**"
      ],
      "metadata": {
        "id": "xlbIy4PmaBaN"
      }
    },
    {
      "cell_type": "markdown",
      "source": [
        "## **Get data for Model Inference**"
      ],
      "metadata": {
        "id": "G5dwOENnaF7S"
      }
    },
    {
      "cell_type": "code",
      "source": [
        "# Get data for model inference\n",
        "\n",
        "data_inference = data.sample(20, random_state=1997)"
      ],
      "metadata": {
        "id": "NNzpEpexaFZv"
      },
      "execution_count": 19,
      "outputs": []
    },
    {
      "cell_type": "code",
      "source": [
        "# Remove inference set from dataset\n",
        "\n",
        "data_train_test = data.drop(data_inference.index)"
      ],
      "metadata": {
        "id": "Eb8fLYLrhD0c"
      },
      "execution_count": 20,
      "outputs": []
    },
    {
      "cell_type": "code",
      "source": [
        "# Reset Index\n",
        "\n",
        "data_train_test.reset_index(drop=True, inplace=True)\n",
        "data_inference.reset_index(drop=True, inplace=True)"
      ],
      "metadata": {
        "id": "Tv3qde3ZhXyO"
      },
      "execution_count": 21,
      "outputs": []
    },
    {
      "cell_type": "markdown",
      "source": [
        "## **Splitting Between X (Feature) and y (Target)**"
      ],
      "metadata": {
        "id": "qczLwhfRhczS"
      }
    },
    {
      "cell_type": "code",
      "source": [
        "# Splitting between `X ` AND `y`\n",
        "\n",
        "X = data_train_test.drop(['Purchase'], axis=1) \n",
        "y = data_train_test['Purchase']\n",
        "X.head()"
      ],
      "metadata": {
        "colab": {
          "base_uri": "https://localhost:8080/",
          "height": 357
        },
        "id": "2SDAKv3thjCm",
        "outputId": "2dd6219c-ef6d-4be2-ad13-14a8147f6792"
      },
      "execution_count": 22,
      "outputs": [
        {
          "output_type": "execute_result",
          "data": {
            "text/plain": [
              "   User_ID Product_ID Gender    Age  Occupation City_Category  \\\n",
              "0  1005124  P00100842      M  36-45           2             B   \n",
              "1  1005126  P00021042      M  26-35          11             B   \n",
              "2  1005126  P00329442      M  26-35          11             B   \n",
              "3  1005126  P00210942      M  26-35          11             B   \n",
              "4  1005126  P00128342      M  26-35          11             B   \n",
              "\n",
              "  Stay_In_Current_City_Years  Marital_Status  Product_Category_1  \\\n",
              "0                          1               0                   5   \n",
              "1                         4+               0                   8   \n",
              "2                         4+               0                   5   \n",
              "3                         4+               0                   5   \n",
              "4                         4+               0                   5   \n",
              "\n",
              "   Product_Category_2  Product_Category_3  \n",
              "0                 NaN                 NaN  \n",
              "1                14.0                 NaN  \n",
              "2                 8.0                 NaN  \n",
              "3                12.0                 NaN  \n",
              "4                12.0                14.0  "
            ],
            "text/html": [
              "\n",
              "  <div id=\"df-efb7974d-2a0f-44f2-9eea-f9a5ccb67e74\">\n",
              "    <div class=\"colab-df-container\">\n",
              "      <div>\n",
              "<style scoped>\n",
              "    .dataframe tbody tr th:only-of-type {\n",
              "        vertical-align: middle;\n",
              "    }\n",
              "\n",
              "    .dataframe tbody tr th {\n",
              "        vertical-align: top;\n",
              "    }\n",
              "\n",
              "    .dataframe thead th {\n",
              "        text-align: right;\n",
              "    }\n",
              "</style>\n",
              "<table border=\"1\" class=\"dataframe\">\n",
              "  <thead>\n",
              "    <tr style=\"text-align: right;\">\n",
              "      <th></th>\n",
              "      <th>User_ID</th>\n",
              "      <th>Product_ID</th>\n",
              "      <th>Gender</th>\n",
              "      <th>Age</th>\n",
              "      <th>Occupation</th>\n",
              "      <th>City_Category</th>\n",
              "      <th>Stay_In_Current_City_Years</th>\n",
              "      <th>Marital_Status</th>\n",
              "      <th>Product_Category_1</th>\n",
              "      <th>Product_Category_2</th>\n",
              "      <th>Product_Category_3</th>\n",
              "    </tr>\n",
              "  </thead>\n",
              "  <tbody>\n",
              "    <tr>\n",
              "      <th>0</th>\n",
              "      <td>1005124</td>\n",
              "      <td>P00100842</td>\n",
              "      <td>M</td>\n",
              "      <td>36-45</td>\n",
              "      <td>2</td>\n",
              "      <td>B</td>\n",
              "      <td>1</td>\n",
              "      <td>0</td>\n",
              "      <td>5</td>\n",
              "      <td>NaN</td>\n",
              "      <td>NaN</td>\n",
              "    </tr>\n",
              "    <tr>\n",
              "      <th>1</th>\n",
              "      <td>1005126</td>\n",
              "      <td>P00021042</td>\n",
              "      <td>M</td>\n",
              "      <td>26-35</td>\n",
              "      <td>11</td>\n",
              "      <td>B</td>\n",
              "      <td>4+</td>\n",
              "      <td>0</td>\n",
              "      <td>8</td>\n",
              "      <td>14.0</td>\n",
              "      <td>NaN</td>\n",
              "    </tr>\n",
              "    <tr>\n",
              "      <th>2</th>\n",
              "      <td>1005126</td>\n",
              "      <td>P00329442</td>\n",
              "      <td>M</td>\n",
              "      <td>26-35</td>\n",
              "      <td>11</td>\n",
              "      <td>B</td>\n",
              "      <td>4+</td>\n",
              "      <td>0</td>\n",
              "      <td>5</td>\n",
              "      <td>8.0</td>\n",
              "      <td>NaN</td>\n",
              "    </tr>\n",
              "    <tr>\n",
              "      <th>3</th>\n",
              "      <td>1005126</td>\n",
              "      <td>P00210942</td>\n",
              "      <td>M</td>\n",
              "      <td>26-35</td>\n",
              "      <td>11</td>\n",
              "      <td>B</td>\n",
              "      <td>4+</td>\n",
              "      <td>0</td>\n",
              "      <td>5</td>\n",
              "      <td>12.0</td>\n",
              "      <td>NaN</td>\n",
              "    </tr>\n",
              "    <tr>\n",
              "      <th>4</th>\n",
              "      <td>1005126</td>\n",
              "      <td>P00128342</td>\n",
              "      <td>M</td>\n",
              "      <td>26-35</td>\n",
              "      <td>11</td>\n",
              "      <td>B</td>\n",
              "      <td>4+</td>\n",
              "      <td>0</td>\n",
              "      <td>5</td>\n",
              "      <td>12.0</td>\n",
              "      <td>14.0</td>\n",
              "    </tr>\n",
              "  </tbody>\n",
              "</table>\n",
              "</div>\n",
              "      <button class=\"colab-df-convert\" onclick=\"convertToInteractive('df-efb7974d-2a0f-44f2-9eea-f9a5ccb67e74')\"\n",
              "              title=\"Convert this dataframe to an interactive table.\"\n",
              "              style=\"display:none;\">\n",
              "        \n",
              "  <svg xmlns=\"http://www.w3.org/2000/svg\" height=\"24px\"viewBox=\"0 0 24 24\"\n",
              "       width=\"24px\">\n",
              "    <path d=\"M0 0h24v24H0V0z\" fill=\"none\"/>\n",
              "    <path d=\"M18.56 5.44l.94 2.06.94-2.06 2.06-.94-2.06-.94-.94-2.06-.94 2.06-2.06.94zm-11 1L8.5 8.5l.94-2.06 2.06-.94-2.06-.94L8.5 2.5l-.94 2.06-2.06.94zm10 10l.94 2.06.94-2.06 2.06-.94-2.06-.94-.94-2.06-.94 2.06-2.06.94z\"/><path d=\"M17.41 7.96l-1.37-1.37c-.4-.4-.92-.59-1.43-.59-.52 0-1.04.2-1.43.59L10.3 9.45l-7.72 7.72c-.78.78-.78 2.05 0 2.83L4 21.41c.39.39.9.59 1.41.59.51 0 1.02-.2 1.41-.59l7.78-7.78 2.81-2.81c.8-.78.8-2.07 0-2.86zM5.41 20L4 18.59l7.72-7.72 1.47 1.35L5.41 20z\"/>\n",
              "  </svg>\n",
              "      </button>\n",
              "      \n",
              "  <style>\n",
              "    .colab-df-container {\n",
              "      display:flex;\n",
              "      flex-wrap:wrap;\n",
              "      gap: 12px;\n",
              "    }\n",
              "\n",
              "    .colab-df-convert {\n",
              "      background-color: #E8F0FE;\n",
              "      border: none;\n",
              "      border-radius: 50%;\n",
              "      cursor: pointer;\n",
              "      display: none;\n",
              "      fill: #1967D2;\n",
              "      height: 32px;\n",
              "      padding: 0 0 0 0;\n",
              "      width: 32px;\n",
              "    }\n",
              "\n",
              "    .colab-df-convert:hover {\n",
              "      background-color: #E2EBFA;\n",
              "      box-shadow: 0px 1px 2px rgba(60, 64, 67, 0.3), 0px 1px 3px 1px rgba(60, 64, 67, 0.15);\n",
              "      fill: #174EA6;\n",
              "    }\n",
              "\n",
              "    [theme=dark] .colab-df-convert {\n",
              "      background-color: #3B4455;\n",
              "      fill: #D2E3FC;\n",
              "    }\n",
              "\n",
              "    [theme=dark] .colab-df-convert:hover {\n",
              "      background-color: #434B5C;\n",
              "      box-shadow: 0px 1px 3px 1px rgba(0, 0, 0, 0.15);\n",
              "      filter: drop-shadow(0px 1px 2px rgba(0, 0, 0, 0.3));\n",
              "      fill: #FFFFFF;\n",
              "    }\n",
              "  </style>\n",
              "\n",
              "      <script>\n",
              "        const buttonEl =\n",
              "          document.querySelector('#df-efb7974d-2a0f-44f2-9eea-f9a5ccb67e74 button.colab-df-convert');\n",
              "        buttonEl.style.display =\n",
              "          google.colab.kernel.accessAllowed ? 'block' : 'none';\n",
              "\n",
              "        async function convertToInteractive(key) {\n",
              "          const element = document.querySelector('#df-efb7974d-2a0f-44f2-9eea-f9a5ccb67e74');\n",
              "          const dataTable =\n",
              "            await google.colab.kernel.invokeFunction('convertToInteractive',\n",
              "                                                     [key], {});\n",
              "          if (!dataTable) return;\n",
              "\n",
              "          const docLinkHtml = 'Like what you see? Visit the ' +\n",
              "            '<a target=\"_blank\" href=https://colab.research.google.com/notebooks/data_table.ipynb>data table notebook</a>'\n",
              "            + ' to learn more about interactive tables.';\n",
              "          element.innerHTML = '';\n",
              "          dataTable['output_type'] = 'display_data';\n",
              "          await google.colab.output.renderOutput(dataTable, element);\n",
              "          const docLink = document.createElement('div');\n",
              "          docLink.innerHTML = docLinkHtml;\n",
              "          element.appendChild(docLink);\n",
              "        }\n",
              "      </script>\n",
              "    </div>\n",
              "  </div>\n",
              "  "
            ]
          },
          "metadata": {},
          "execution_count": 22
        }
      ]
    },
    {
      "cell_type": "code",
      "source": [
        "# Splitting between Train-Set dengan Test-Set\n",
        "\n",
        "X_train, X_test, y_train, y_test = train_test_split(X, y, test_size=0.2, random_state=1795)\n",
        "print('Train Size: ', X_train.shape)\n",
        "print('Test Size: ', X_test.shape)"
      ],
      "metadata": {
        "colab": {
          "base_uri": "https://localhost:8080/"
        },
        "id": "626AucJSiY-e",
        "outputId": "1615fb68-29b4-421b-886f-98f6660c7f2f"
      },
      "execution_count": 23,
      "outputs": [
        {
          "output_type": "stream",
          "name": "stdout",
          "text": [
            "Train Size:  (8037, 11)\n",
            "Test Size:  (2010, 11)\n"
          ]
        }
      ]
    },
    {
      "cell_type": "markdown",
      "source": [
        "## **Outlier**"
      ],
      "metadata": {
        "id": "9XSqummBiziT"
      }
    },
    {
      "cell_type": "code",
      "source": [
        "# Function to create histogram and boxplot.\n",
        "\n",
        "def diagnostic_plots(df, variable):\n",
        "    # Define figure size\n",
        "    plt.figure(figsize=(16, 4))\n",
        "\n",
        "    # Histogram\n",
        "    plt.subplot(1, 2, 1)\n",
        "    sns.histplot(df[variable], kde=True, bins=30)\n",
        "    plt.title('Histogram')\n",
        "\n",
        "    # Boxplot\n",
        "    plt.subplot(1, 2, 2)\n",
        "    sns.boxplot(y=df[variable])\n",
        "    plt.title('Boxplot')\n",
        "\n",
        "    plt.show()"
      ],
      "metadata": {
        "id": "rF8kabCditeg"
      },
      "execution_count": 24,
      "outputs": []
    },
    {
      "cell_type": "code",
      "source": [
        "#Histogram and Boxplot for `Occupation`\n",
        "diagnostic_plots(X_train, 'Occupation')\n",
        "print('\\nSkewness Value : ', X_train['Occupation'].skew())"
      ],
      "metadata": {
        "colab": {
          "base_uri": "https://localhost:8080/",
          "height": 360
        },
        "id": "KRwhqupAkrDT",
        "outputId": "c964b1fb-ad21-4a73-fe7d-8a47a5ebfd9d"
      },
      "execution_count": 25,
      "outputs": [
        {
          "output_type": "display_data",
          "data": {
            "text/plain": [
              "<Figure size 1152x288 with 2 Axes>"
            ],
            "image/png": "[encoded data removed]"
          },
          "metadata": {}
        },
        {
          "output_type": "stream",
          "name": "stdout",
          "text": [
            "\n",
            "Skewness Value :  0.4089533714066198\n"
          ]
        }
      ]
    },
    {
      "cell_type": "code",
      "source": [
        "#Histogram and Boxplot for `Occupation`\n",
        "diagnostic_plots(X_test, 'Occupation')\n",
        "print('\\nSkewness Value : ', X_test['Occupation'].skew())"
      ],
      "metadata": {
        "colab": {
          "base_uri": "https://localhost:8080/",
          "height": 360
        },
        "id": "pZM51GrnoJ2D",
        "outputId": "ceb50ad9-3a3d-4fc6-e2d9-eb5786516025"
      },
      "execution_count": 26,
      "outputs": [
        {
          "output_type": "display_data",
          "data": {
            "text/plain": [
              "<Figure size 1152x288 with 2 Axes>"
            ],
            "image/png": "[encoded data removed]"
          },
          "metadata": {}
        },
        {
          "output_type": "stream",
          "name": "stdout",
          "text": [
            "\n",
            "Skewness Value :  0.43354575870752043\n"
          ]
        }
      ]
    },
    {
      "cell_type": "code",
      "source": [
        "#Histogram and Boxplot for `User_ID`\n",
        "diagnostic_plots(X_test, 'User_ID')\n",
        "print('\\nSkewness Value : ', X_test['User_ID'].skew())"
      ],
      "metadata": {
        "colab": {
          "base_uri": "https://localhost:8080/",
          "height": 360
        },
        "id": "hllMLAkhx6kV",
        "outputId": "71a7e08d-1a8a-4838-906d-874fad2316b1"
      },
      "execution_count": 27,
      "outputs": [
        {
          "output_type": "display_data",
          "data": {
            "text/plain": [
              "<Figure size 1152x288 with 2 Axes>"
            ],
            "image/png": "[encoded data removed]"
          },
          "metadata": {}
        },
        {
          "output_type": "stream",
          "name": "stdout",
          "text": [
            "\n",
            "Skewness Value :  -1.2225838915560925\n"
          ]
        }
      ]
    },
    {
      "cell_type": "markdown",
      "source": [
        "Data-data numerical yang terdapat pada data X (feature) pada dasarnya merupakan data yang mewakili nilai kategorikal. Misal, pada grafik histogram dan boxplot dari kolom `Occupation` di atas. Data memiliki distribusi yang normal dengan tiap angka mewakili pekerjaan tertentu. Penanganan outlier pada data ini dirasa tidak perlu untuk dilakukan."
      ],
      "metadata": {
        "id": "dcuFf4JzneMK"
      }
    },
    {
      "cell_type": "markdown",
      "source": [
        "## **Missing Values**"
      ],
      "metadata": {
        "id": "atrgOteXo3aO"
      }
    },
    {
      "cell_type": "code",
      "source": [
        "# Check Missing Values in `X_train`\n",
        "X_train.isna().sum()"
      ],
      "metadata": {
        "colab": {
          "base_uri": "https://localhost:8080/"
        },
        "id": "tR_XWO_HlpLE",
        "outputId": "08ae8bac-5655-4bc2-f86a-f063bb8e5d7e"
      },
      "execution_count": 28,
      "outputs": [
        {
          "output_type": "execute_result",
          "data": {
            "text/plain": [
              "User_ID                          0\n",
              "Product_ID                       0\n",
              "Gender                           0\n",
              "Age                              0\n",
              "Occupation                       0\n",
              "City_Category                    0\n",
              "Stay_In_Current_City_Years       0\n",
              "Marital_Status                   0\n",
              "Product_Category_1               0\n",
              "Product_Category_2            4729\n",
              "Product_Category_3            6601\n",
              "dtype: int64"
            ]
          },
          "metadata": {},
          "execution_count": 28
        }
      ]
    },
    {
      "cell_type": "code",
      "source": [
        "# Check Missing Values in `X_test`\n",
        "X_test.isna().sum()"
      ],
      "metadata": {
        "colab": {
          "base_uri": "https://localhost:8080/"
        },
        "id": "SlfRq1H8pEZR",
        "outputId": "995a6df7-5a4a-4d80-fa6e-faa591cbeed8"
      },
      "execution_count": 29,
      "outputs": [
        {
          "output_type": "execute_result",
          "data": {
            "text/plain": [
              "User_ID                          0\n",
              "Product_ID                       0\n",
              "Gender                           0\n",
              "Age                              0\n",
              "Occupation                       0\n",
              "City_Category                    0\n",
              "Stay_In_Current_City_Years       0\n",
              "Marital_Status                   0\n",
              "Product_Category_1               0\n",
              "Product_Category_2            1167\n",
              "Product_Category_3            1667\n",
              "dtype: int64"
            ]
          },
          "metadata": {},
          "execution_count": 29
        }
      ]
    },
    {
      "cell_type": "code",
      "source": [
        "# Check Missing Values in `y_train`\n",
        "y_train.isna().sum()"
      ],
      "metadata": {
        "colab": {
          "base_uri": "https://localhost:8080/"
        },
        "id": "3r9bxBd2pKyr",
        "outputId": "c8938eef-5b9c-4797-dca5-0f93159d3a26"
      },
      "execution_count": 30,
      "outputs": [
        {
          "output_type": "execute_result",
          "data": {
            "text/plain": [
              "0"
            ]
          },
          "metadata": {},
          "execution_count": 30
        }
      ]
    },
    {
      "cell_type": "code",
      "source": [
        "# Check Missing Values in `y_test`\n",
        "y_test.isna().sum()"
      ],
      "metadata": {
        "colab": {
          "base_uri": "https://localhost:8080/"
        },
        "id": "sFZPe_T6pVOy",
        "outputId": "27c37035-6cb7-4152-a20e-a2c7c69b8677"
      },
      "execution_count": 31,
      "outputs": [
        {
          "output_type": "execute_result",
          "data": {
            "text/plain": [
              "0"
            ]
          },
          "metadata": {},
          "execution_count": 31
        }
      ]
    },
    {
      "cell_type": "code",
      "source": [
        "# Impute the missing values with median and check missing values after imputation\n",
        "X_train['Product_Category_2'].fillna(X_train['Product_Category_2'].median(), inplace=True)\n",
        "X_test['Product_Category_2'].fillna(X_test['Product_Category_2'].median(), inplace=True)\n",
        "X_train['Product_Category_3'].fillna(X_train['Product_Category_3'].median(), inplace=True)\n",
        "X_test['Product_Category_3'].fillna(X_train['Product_Category_3'].median(), inplace=True)\n",
        "print('Missing Values after imputation: \\n')\n",
        "print(X_train.isna().sum())"
      ],
      "metadata": {
        "colab": {
          "base_uri": "https://localhost:8080/"
        },
        "id": "aoo2zH0Kp1Tv",
        "outputId": "69847a32-fcda-44ed-b790-6fa581c41141"
      },
      "execution_count": 32,
      "outputs": [
        {
          "output_type": "stream",
          "name": "stdout",
          "text": [
            "Missing Values after imputation: \n",
            "\n",
            "User_ID                       0\n",
            "Product_ID                    0\n",
            "Gender                        0\n",
            "Age                           0\n",
            "Occupation                    0\n",
            "City_Category                 0\n",
            "Stay_In_Current_City_Years    0\n",
            "Marital_Status                0\n",
            "Product_Category_1            0\n",
            "Product_Category_2            0\n",
            "Product_Category_3            0\n",
            "dtype: int64\n"
          ]
        }
      ]
    },
    {
      "cell_type": "markdown",
      "source": [
        "## **Feature Selection**"
      ],
      "metadata": {
        "id": "9XMYgJdKrKup"
      }
    },
    {
      "cell_type": "markdown",
      "source": [
        "Pada kolom `Stay_In_Current_City_Years` terdapat nilai 4+ yang melambangkan lebih dari 4 tahun. Nilai 4+ akan diubah menjadi 4 yang memiliki arti lebih dari atau sama dengan 4 tahun."
      ],
      "metadata": {
        "id": "uhOaxg6ktffc"
      }
    },
    {
      "cell_type": "code",
      "source": [
        "# Replacing Value `4+` to `4`\n",
        "X_train.replace(\"4+\", \"4\", inplace=True)\n",
        "X_test.replace(\"4+\", \"4\", inplace=True)\n",
        "X_train.tail()"
      ],
      "metadata": {
        "colab": {
          "base_uri": "https://localhost:8080/",
          "height": 357
        },
        "id": "3e8FiZghrKfi",
        "outputId": "612bd3bc-e4cc-4fd2-b36e-5a1456e17093"
      },
      "execution_count": 33,
      "outputs": [
        {
          "output_type": "execute_result",
          "data": {
            "text/plain": [
              "      User_ID Product_ID Gender    Age  Occupation City_Category  \\\n",
              "412   1005208  P00283942      M  26-35           4             A   \n",
              "3915  1005749  P00048842      M  26-35           2             A   \n",
              "38    1005133  P00279342      M  18-25          11             B   \n",
              "4335  1005795  P00107642      M  26-35           1             A   \n",
              "3918  1005749  P00011742      M  26-35           2             A   \n",
              "\n",
              "     Stay_In_Current_City_Years  Marital_Status  Product_Category_1  \\\n",
              "412                           1               1                   5   \n",
              "3915                          0               1                   8   \n",
              "38                            0               0                   5   \n",
              "4335                          1               1                   5   \n",
              "3918                          0               1                   8   \n",
              "\n",
              "      Product_Category_2  Product_Category_3  \n",
              "412                  9.0                14.0  \n",
              "3915                 9.0                14.0  \n",
              "38                  14.0                14.0  \n",
              "4335                 9.0                14.0  \n",
              "3918                 9.0                14.0  "
            ],
            "text/html": [
              "\n",
              "  <div id=\"df-60c9eb2e-b716-45e9-bc0a-5a4ff7f3b8ed\">\n",
              "    <div class=\"colab-df-container\">\n",
              "      <div>\n",
              "<style scoped>\n",
              "    .dataframe tbody tr th:only-of-type {\n",
              "        vertical-align: middle;\n",
              "    }\n",
              "\n",
              "    .dataframe tbody tr th {\n",
              "        vertical-align: top;\n",
              "    }\n",
              "\n",
              "    .dataframe thead th {\n",
              "        text-align: right;\n",
              "    }\n",
              "</style>\n",
              "<table border=\"1\" class=\"dataframe\">\n",
              "  <thead>\n",
              "    <tr style=\"text-align: right;\">\n",
              "      <th></th>\n",
              "      <th>User_ID</th>\n",
              "      <th>Product_ID</th>\n",
              "      <th>Gender</th>\n",
              "      <th>Age</th>\n",
              "      <th>Occupation</th>\n",
              "      <th>City_Category</th>\n",
              "      <th>Stay_In_Current_City_Years</th>\n",
              "      <th>Marital_Status</th>\n",
              "      <th>Product_Category_1</th>\n",
              "      <th>Product_Category_2</th>\n",
              "      <th>Product_Category_3</th>\n",
              "    </tr>\n",
              "  </thead>\n",
              "  <tbody>\n",
              "    <tr>\n",
              "      <th>412</th>\n",
              "      <td>1005208</td>\n",
              "      <td>P00283942</td>\n",
              "      <td>M</td>\n",
              "      <td>26-35</td>\n",
              "      <td>4</td>\n",
              "      <td>A</td>\n",
              "      <td>1</td>\n",
              "      <td>1</td>\n",
              "      <td>5</td>\n",
              "      <td>9.0</td>\n",
              "      <td>14.0</td>\n",
              "    </tr>\n",
              "    <tr>\n",
              "      <th>3915</th>\n",
              "      <td>1005749</td>\n",
              "      <td>P00048842</td>\n",
              "      <td>M</td>\n",
              "      <td>26-35</td>\n",
              "      <td>2</td>\n",
              "      <td>A</td>\n",
              "      <td>0</td>\n",
              "      <td>1</td>\n",
              "      <td>8</td>\n",
              "      <td>9.0</td>\n",
              "      <td>14.0</td>\n",
              "    </tr>\n",
              "    <tr>\n",
              "      <th>38</th>\n",
              "      <td>1005133</td>\n",
              "      <td>P00279342</td>\n",
              "      <td>M</td>\n",
              "      <td>18-25</td>\n",
              "      <td>11</td>\n",
              "      <td>B</td>\n",
              "      <td>0</td>\n",
              "      <td>0</td>\n",
              "      <td>5</td>\n",
              "      <td>14.0</td>\n",
              "      <td>14.0</td>\n",
              "    </tr>\n",
              "    <tr>\n",
              "      <th>4335</th>\n",
              "      <td>1005795</td>\n",
              "      <td>P00107642</td>\n",
              "      <td>M</td>\n",
              "      <td>26-35</td>\n",
              "      <td>1</td>\n",
              "      <td>A</td>\n",
              "      <td>1</td>\n",
              "      <td>1</td>\n",
              "      <td>5</td>\n",
              "      <td>9.0</td>\n",
              "      <td>14.0</td>\n",
              "    </tr>\n",
              "    <tr>\n",
              "      <th>3918</th>\n",
              "      <td>1005749</td>\n",
              "      <td>P00011742</td>\n",
              "      <td>M</td>\n",
              "      <td>26-35</td>\n",
              "      <td>2</td>\n",
              "      <td>A</td>\n",
              "      <td>0</td>\n",
              "      <td>1</td>\n",
              "      <td>8</td>\n",
              "      <td>9.0</td>\n",
              "      <td>14.0</td>\n",
              "    </tr>\n",
              "  </tbody>\n",
              "</table>\n",
              "</div>\n",
              "      <button class=\"colab-df-convert\" onclick=\"convertToInteractive('df-60c9eb2e-b716-45e9-bc0a-5a4ff7f3b8ed')\"\n",
              "              title=\"Convert this dataframe to an interactive table.\"\n",
              "              style=\"display:none;\">\n",
              "        \n",
              "  <svg xmlns=\"http://www.w3.org/2000/svg\" height=\"24px\"viewBox=\"0 0 24 24\"\n",
              "       width=\"24px\">\n",
              "    <path d=\"M0 0h24v24H0V0z\" fill=\"none\"/>\n",
              "    <path d=\"M18.56 5.44l.94 2.06.94-2.06 2.06-.94-2.06-.94-.94-2.06-.94 2.06-2.06.94zm-11 1L8.5 8.5l.94-2.06 2.06-.94-2.06-.94L8.5 2.5l-.94 2.06-2.06.94zm10 10l.94 2.06.94-2.06 2.06-.94-2.06-.94-.94-2.06-.94 2.06-2.06.94z\"/><path d=\"M17.41 7.96l-1.37-1.37c-.4-.4-.92-.59-1.43-.59-.52 0-1.04.2-1.43.59L10.3 9.45l-7.72 7.72c-.78.78-.78 2.05 0 2.83L4 21.41c.39.39.9.59 1.41.59.51 0 1.02-.2 1.41-.59l7.78-7.78 2.81-2.81c.8-.78.8-2.07 0-2.86zM5.41 20L4 18.59l7.72-7.72 1.47 1.35L5.41 20z\"/>\n",
              "  </svg>\n",
              "      </button>\n",
              "      \n",
              "  <style>\n",
              "    .colab-df-container {\n",
              "      display:flex;\n",
              "      flex-wrap:wrap;\n",
              "      gap: 12px;\n",
              "    }\n",
              "\n",
              "    .colab-df-convert {\n",
              "      background-color: #E8F0FE;\n",
              "      border: none;\n",
              "      border-radius: 50%;\n",
              "      cursor: pointer;\n",
              "      display: none;\n",
              "      fill: #1967D2;\n",
              "      height: 32px;\n",
              "      padding: 0 0 0 0;\n",
              "      width: 32px;\n",
              "    }\n",
              "\n",
              "    .colab-df-convert:hover {\n",
              "      background-color: #E2EBFA;\n",
              "      box-shadow: 0px 1px 2px rgba(60, 64, 67, 0.3), 0px 1px 3px 1px rgba(60, 64, 67, 0.15);\n",
              "      fill: #174EA6;\n",
              "    }\n",
              "\n",
              "    [theme=dark] .colab-df-convert {\n",
              "      background-color: #3B4455;\n",
              "      fill: #D2E3FC;\n",
              "    }\n",
              "\n",
              "    [theme=dark] .colab-df-convert:hover {\n",
              "      background-color: #434B5C;\n",
              "      box-shadow: 0px 1px 3px 1px rgba(0, 0, 0, 0.15);\n",
              "      filter: drop-shadow(0px 1px 2px rgba(0, 0, 0, 0.3));\n",
              "      fill: #FFFFFF;\n",
              "    }\n",
              "  </style>\n",
              "\n",
              "      <script>\n",
              "        const buttonEl =\n",
              "          document.querySelector('#df-60c9eb2e-b716-45e9-bc0a-5a4ff7f3b8ed button.colab-df-convert');\n",
              "        buttonEl.style.display =\n",
              "          google.colab.kernel.accessAllowed ? 'block' : 'none';\n",
              "\n",
              "        async function convertToInteractive(key) {\n",
              "          const element = document.querySelector('#df-60c9eb2e-b716-45e9-bc0a-5a4ff7f3b8ed');\n",
              "          const dataTable =\n",
              "            await google.colab.kernel.invokeFunction('convertToInteractive',\n",
              "                                                     [key], {});\n",
              "          if (!dataTable) return;\n",
              "\n",
              "          const docLinkHtml = 'Like what you see? Visit the ' +\n",
              "            '<a target=\"_blank\" href=https://colab.research.google.com/notebooks/data_table.ipynb>data table notebook</a>'\n",
              "            + ' to learn more about interactive tables.';\n",
              "          element.innerHTML = '';\n",
              "          dataTable['output_type'] = 'display_data';\n",
              "          await google.colab.output.renderOutput(dataTable, element);\n",
              "          const docLink = document.createElement('div');\n",
              "          docLink.innerHTML = docLinkHtml;\n",
              "          element.appendChild(docLink);\n",
              "        }\n",
              "      </script>\n",
              "    </div>\n",
              "  </div>\n",
              "  "
            ]
          },
          "metadata": {},
          "execution_count": 33
        }
      ]
    },
    {
      "cell_type": "code",
      "source": [
        "# Change Data Type\n",
        "X_train = X_train.astype({'Stay_In_Current_City_Years': int})\n",
        "X_test = X_test.astype({'Stay_In_Current_City_Years': int})\n",
        "print('New Data Type: \\n')\n",
        "print(X_train.info())"
      ],
      "metadata": {
        "colab": {
          "base_uri": "https://localhost:8080/"
        },
        "id": "wqIiQGhZzTGf",
        "outputId": "2f368126-3e62-4ae0-fa8c-72b91433afd0"
      },
      "execution_count": 34,
      "outputs": [
        {
          "output_type": "stream",
          "name": "stdout",
          "text": [
            "New Data Type: \n",
            "\n",
            "<class 'pandas.core.frame.DataFrame'>\n",
            "Int64Index: 8037 entries, 3335 to 3918\n",
            "Data columns (total 11 columns):\n",
            " #   Column                      Non-Null Count  Dtype  \n",
            "---  ------                      --------------  -----  \n",
            " 0   User_ID                     8037 non-null   int64  \n",
            " 1   Product_ID                  8037 non-null   object \n",
            " 2   Gender                      8037 non-null   object \n",
            " 3   Age                         8037 non-null   object \n",
            " 4   Occupation                  8037 non-null   int64  \n",
            " 5   City_Category               8037 non-null   object \n",
            " 6   Stay_In_Current_City_Years  8037 non-null   int64  \n",
            " 7   Marital_Status              8037 non-null   int64  \n",
            " 8   Product_Category_1          8037 non-null   int64  \n",
            " 9   Product_Category_2          8037 non-null   float64\n",
            " 10  Product_Category_3          8037 non-null   float64\n",
            "dtypes: float64(2), int64(5), object(4)\n",
            "memory usage: 753.5+ KB\n",
            "None\n"
          ]
        }
      ]
    },
    {
      "cell_type": "code",
      "source": [
        "# Drop `Product_ID`\n",
        "unused = ['User_ID', 'Product_ID']\n",
        "X_train.drop(unused, axis=1, inplace=True)\n",
        "X_test.drop(unused, axis=1, inplace=True)"
      ],
      "metadata": {
        "id": "6hPwOVSL_q5-"
      },
      "execution_count": 35,
      "outputs": []
    },
    {
      "cell_type": "markdown",
      "source": [
        "## **Split between Numerical columns and Categorical Columns**"
      ],
      "metadata": {
        "id": "W7ziZhf-1WDM"
      }
    },
    {
      "cell_type": "code",
      "source": [
        "# Show `X_train` as guidance\n",
        "X_train"
      ],
      "metadata": {
        "colab": {
          "base_uri": "https://localhost:8080/",
          "height": 644
        },
        "id": "7854QY7o7fOc",
        "outputId": "ad0989e2-727e-4a02-c9f7-7ccd1b4b1091"
      },
      "execution_count": 36,
      "outputs": [
        {
          "output_type": "execute_result",
          "data": {
            "text/plain": [
              "     Gender    Age  Occupation City_Category  Stay_In_Current_City_Years  \\\n",
              "3335      F  26-35           6             C                           0   \n",
              "6423      F    55+           3             C                           1   \n",
              "5808      F  26-35           1             B                           1   \n",
              "5353      F  18-25           4             B                           2   \n",
              "3025      F  18-25           4             C                           0   \n",
              "...     ...    ...         ...           ...                         ...   \n",
              "412       M  26-35           4             A                           1   \n",
              "3915      M  26-35           2             A                           0   \n",
              "38        M  18-25          11             B                           0   \n",
              "4335      M  26-35           1             A                           1   \n",
              "3918      M  26-35           2             A                           0   \n",
              "\n",
              "      Marital_Status  Product_Category_1  Product_Category_2  \\\n",
              "3335               0                   3                 4.0   \n",
              "6423               0                  19                 9.0   \n",
              "5808               0                   5                11.0   \n",
              "5353               0                   8                15.0   \n",
              "3025               0                   2                 4.0   \n",
              "...              ...                 ...                 ...   \n",
              "412                1                   5                 9.0   \n",
              "3915               1                   8                 9.0   \n",
              "38                 0                   5                14.0   \n",
              "4335               1                   5                 9.0   \n",
              "3918               1                   8                 9.0   \n",
              "\n",
              "      Product_Category_3  \n",
              "3335                 5.0  \n",
              "6423                14.0  \n",
              "5808                14.0  \n",
              "5353                14.0  \n",
              "3025                 9.0  \n",
              "...                  ...  \n",
              "412                 14.0  \n",
              "3915                14.0  \n",
              "38                  14.0  \n",
              "4335                14.0  \n",
              "3918                14.0  \n",
              "\n",
              "[8037 rows x 9 columns]"
            ],
            "text/html": [
              "\n",
              "  <div id=\"df-a7e7dbb5-c723-4c61-bd52-4b03302e9d7c\">\n",
              "    <div class=\"colab-df-container\">\n",
              "      <div>\n",
              "<style scoped>\n",
              "    .dataframe tbody tr th:only-of-type {\n",
              "        vertical-align: middle;\n",
              "    }\n",
              "\n",
              "    .dataframe tbody tr th {\n",
              "        vertical-align: top;\n",
              "    }\n",
              "\n",
              "    .dataframe thead th {\n",
              "        text-align: right;\n",
              "    }\n",
              "</style>\n",
              "<table border=\"1\" class=\"dataframe\">\n",
              "  <thead>\n",
              "    <tr style=\"text-align: right;\">\n",
              "      <th></th>\n",
              "      <th>Gender</th>\n",
              "      <th>Age</th>\n",
              "      <th>Occupation</th>\n",
              "      <th>City_Category</th>\n",
              "      <th>Stay_In_Current_City_Years</th>\n",
              "      <th>Marital_Status</th>\n",
              "      <th>Product_Category_1</th>\n",
              "      <th>Product_Category_2</th>\n",
              "      <th>Product_Category_3</th>\n",
              "    </tr>\n",
              "  </thead>\n",
              "  <tbody>\n",
              "    <tr>\n",
              "      <th>3335</th>\n",
              "      <td>F</td>\n",
              "      <td>26-35</td>\n",
              "      <td>6</td>\n",
              "      <td>C</td>\n",
              "      <td>0</td>\n",
              "      <td>0</td>\n",
              "      <td>3</td>\n",
              "      <td>4.0</td>\n",
              "      <td>5.0</td>\n",
              "    </tr>\n",
              "    <tr>\n",
              "      <th>6423</th>\n",
              "      <td>F</td>\n",
              "      <td>55+</td>\n",
              "      <td>3</td>\n",
              "      <td>C</td>\n",
              "      <td>1</td>\n",
              "      <td>0</td>\n",
              "      <td>19</td>\n",
              "      <td>9.0</td>\n",
              "      <td>14.0</td>\n",
              "    </tr>\n",
              "    <tr>\n",
              "      <th>5808</th>\n",
              "      <td>F</td>\n",
              "      <td>26-35</td>\n",
              "      <td>1</td>\n",
              "      <td>B</td>\n",
              "      <td>1</td>\n",
              "      <td>0</td>\n",
              "      <td>5</td>\n",
              "      <td>11.0</td>\n",
              "      <td>14.0</td>\n",
              "    </tr>\n",
              "    <tr>\n",
              "      <th>5353</th>\n",
              "      <td>F</td>\n",
              "      <td>18-25</td>\n",
              "      <td>4</td>\n",
              "      <td>B</td>\n",
              "      <td>2</td>\n",
              "      <td>0</td>\n",
              "      <td>8</td>\n",
              "      <td>15.0</td>\n",
              "      <td>14.0</td>\n",
              "    </tr>\n",
              "    <tr>\n",
              "      <th>3025</th>\n",
              "      <td>F</td>\n",
              "      <td>18-25</td>\n",
              "      <td>4</td>\n",
              "      <td>C</td>\n",
              "      <td>0</td>\n",
              "      <td>0</td>\n",
              "      <td>2</td>\n",
              "      <td>4.0</td>\n",
              "      <td>9.0</td>\n",
              "    </tr>\n",
              "    <tr>\n",
              "      <th>...</th>\n",
              "      <td>...</td>\n",
              "      <td>...</td>\n",
              "      <td>...</td>\n",
              "      <td>...</td>\n",
              "      <td>...</td>\n",
              "      <td>...</td>\n",
              "      <td>...</td>\n",
              "      <td>...</td>\n",
              "      <td>...</td>\n",
              "    </tr>\n",
              "    <tr>\n",
              "      <th>412</th>\n",
              "      <td>M</td>\n",
              "      <td>26-35</td>\n",
              "      <td>4</td>\n",
              "      <td>A</td>\n",
              "      <td>1</td>\n",
              "      <td>1</td>\n",
              "      <td>5</td>\n",
              "      <td>9.0</td>\n",
              "      <td>14.0</td>\n",
              "    </tr>\n",
              "    <tr>\n",
              "      <th>3915</th>\n",
              "      <td>M</td>\n",
              "      <td>26-35</td>\n",
              "      <td>2</td>\n",
              "      <td>A</td>\n",
              "      <td>0</td>\n",
              "      <td>1</td>\n",
              "      <td>8</td>\n",
              "      <td>9.0</td>\n",
              "      <td>14.0</td>\n",
              "    </tr>\n",
              "    <tr>\n",
              "      <th>38</th>\n",
              "      <td>M</td>\n",
              "      <td>18-25</td>\n",
              "      <td>11</td>\n",
              "      <td>B</td>\n",
              "      <td>0</td>\n",
              "      <td>0</td>\n",
              "      <td>5</td>\n",
              "      <td>14.0</td>\n",
              "      <td>14.0</td>\n",
              "    </tr>\n",
              "    <tr>\n",
              "      <th>4335</th>\n",
              "      <td>M</td>\n",
              "      <td>26-35</td>\n",
              "      <td>1</td>\n",
              "      <td>A</td>\n",
              "      <td>1</td>\n",
              "      <td>1</td>\n",
              "      <td>5</td>\n",
              "      <td>9.0</td>\n",
              "      <td>14.0</td>\n",
              "    </tr>\n",
              "    <tr>\n",
              "      <th>3918</th>\n",
              "      <td>M</td>\n",
              "      <td>26-35</td>\n",
              "      <td>2</td>\n",
              "      <td>A</td>\n",
              "      <td>0</td>\n",
              "      <td>1</td>\n",
              "      <td>8</td>\n",
              "      <td>9.0</td>\n",
              "      <td>14.0</td>\n",
              "    </tr>\n",
              "  </tbody>\n",
              "</table>\n",
              "<p>8037 rows × 9 columns</p>\n",
              "</div>\n",
              "      <button class=\"colab-df-convert\" onclick=\"convertToInteractive('df-a7e7dbb5-c723-4c61-bd52-4b03302e9d7c')\"\n",
              "              title=\"Convert this dataframe to an interactive table.\"\n",
              "              style=\"display:none;\">\n",
              "        \n",
              "  <svg xmlns=\"http://www.w3.org/2000/svg\" height=\"24px\"viewBox=\"0 0 24 24\"\n",
              "       width=\"24px\">\n",
              "    <path d=\"M0 0h24v24H0V0z\" fill=\"none\"/>\n",
              "    <path d=\"M18.56 5.44l.94 2.06.94-2.06 2.06-.94-2.06-.94-.94-2.06-.94 2.06-2.06.94zm-11 1L8.5 8.5l.94-2.06 2.06-.94-2.06-.94L8.5 2.5l-.94 2.06-2.06.94zm10 10l.94 2.06.94-2.06 2.06-.94-2.06-.94-.94-2.06-.94 2.06-2.06.94z\"/><path d=\"M17.41 7.96l-1.37-1.37c-.4-.4-.92-.59-1.43-.59-.52 0-1.04.2-1.43.59L10.3 9.45l-7.72 7.72c-.78.78-.78 2.05 0 2.83L4 21.41c.39.39.9.59 1.41.59.51 0 1.02-.2 1.41-.59l7.78-7.78 2.81-2.81c.8-.78.8-2.07 0-2.86zM5.41 20L4 18.59l7.72-7.72 1.47 1.35L5.41 20z\"/>\n",
              "  </svg>\n",
              "      </button>\n",
              "      \n",
              "  <style>\n",
              "    .colab-df-container {\n",
              "      display:flex;\n",
              "      flex-wrap:wrap;\n",
              "      gap: 12px;\n",
              "    }\n",
              "\n",
              "    .colab-df-convert {\n",
              "      background-color: #E8F0FE;\n",
              "      border: none;\n",
              "      border-radius: 50%;\n",
              "      cursor: pointer;\n",
              "      display: none;\n",
              "      fill: #1967D2;\n",
              "      height: 32px;\n",
              "      padding: 0 0 0 0;\n",
              "      width: 32px;\n",
              "    }\n",
              "\n",
              "    .colab-df-convert:hover {\n",
              "      background-color: #E2EBFA;\n",
              "      box-shadow: 0px 1px 2px rgba(60, 64, 67, 0.3), 0px 1px 3px 1px rgba(60, 64, 67, 0.15);\n",
              "      fill: #174EA6;\n",
              "    }\n",
              "\n",
              "    [theme=dark] .colab-df-convert {\n",
              "      background-color: #3B4455;\n",
              "      fill: #D2E3FC;\n",
              "    }\n",
              "\n",
              "    [theme=dark] .colab-df-convert:hover {\n",
              "      background-color: #434B5C;\n",
              "      box-shadow: 0px 1px 3px 1px rgba(0, 0, 0, 0.15);\n",
              "      filter: drop-shadow(0px 1px 2px rgba(0, 0, 0, 0.3));\n",
              "      fill: #FFFFFF;\n",
              "    }\n",
              "  </style>\n",
              "\n",
              "      <script>\n",
              "        const buttonEl =\n",
              "          document.querySelector('#df-a7e7dbb5-c723-4c61-bd52-4b03302e9d7c button.colab-df-convert');\n",
              "        buttonEl.style.display =\n",
              "          google.colab.kernel.accessAllowed ? 'block' : 'none';\n",
              "\n",
              "        async function convertToInteractive(key) {\n",
              "          const element = document.querySelector('#df-a7e7dbb5-c723-4c61-bd52-4b03302e9d7c');\n",
              "          const dataTable =\n",
              "            await google.colab.kernel.invokeFunction('convertToInteractive',\n",
              "                                                     [key], {});\n",
              "          if (!dataTable) return;\n",
              "\n",
              "          const docLinkHtml = 'Like what you see? Visit the ' +\n",
              "            '<a target=\"_blank\" href=https://colab.research.google.com/notebooks/data_table.ipynb>data table notebook</a>'\n",
              "            + ' to learn more about interactive tables.';\n",
              "          element.innerHTML = '';\n",
              "          dataTable['output_type'] = 'display_data';\n",
              "          await google.colab.output.renderOutput(dataTable, element);\n",
              "          const docLink = document.createElement('div');\n",
              "          docLink.innerHTML = docLinkHtml;\n",
              "          element.appendChild(docLink);\n",
              "        }\n",
              "      </script>\n",
              "    </div>\n",
              "  </div>\n",
              "  "
            ]
          },
          "metadata": {},
          "execution_count": 36
        }
      ]
    },
    {
      "cell_type": "code",
      "source": [
        "# Get Numerical columns and Categorical Column\n",
        "\n",
        "num_columns = X_train.select_dtypes(include=np.number).columns.tolist()\n",
        "cat_columns = X_train.select_dtypes(include=['object']).columns.tolist()\n",
        "\n",
        "print('Numerical Columns: ', num_columns)\n",
        "print('Categorical Columns: ', cat_columns)"
      ],
      "metadata": {
        "colab": {
          "base_uri": "https://localhost:8080/"
        },
        "id": "mmw2YzZ-1mvv",
        "outputId": "f77de34f-3719-4652-b31f-a9491c8f8d42"
      },
      "execution_count": 37,
      "outputs": [
        {
          "output_type": "stream",
          "name": "stdout",
          "text": [
            "Numerical Columns:  ['Occupation', 'Stay_In_Current_City_Years', 'Marital_Status', 'Product_Category_1', 'Product_Category_2', 'Product_Category_3']\n",
            "Categorical Columns:  ['Gender', 'Age', 'City_Category']\n"
          ]
        }
      ]
    },
    {
      "cell_type": "code",
      "source": [
        "# Split Train-Set and Test-Set based on Column Types\n",
        "\n",
        "X_train_num = X_train[num_columns]\n",
        "X_test_num = X_test[num_columns]\n",
        "\n",
        "X_train_cat = X_train[cat_columns]\n",
        "X_test_cat = X_test[cat_columns]\n",
        "\n",
        "X_train_num"
      ],
      "metadata": {
        "colab": {
          "base_uri": "https://localhost:8080/",
          "height": 424
        },
        "id": "KVEvOVFQ1yti",
        "outputId": "157b5941-9a96-4cad-c10f-b1cf0b0616d3"
      },
      "execution_count": 38,
      "outputs": [
        {
          "output_type": "execute_result",
          "data": {
            "text/plain": [
              "      Occupation  Stay_In_Current_City_Years  Marital_Status  \\\n",
              "3335           6                           0               0   \n",
              "6423           3                           1               0   \n",
              "5808           1                           1               0   \n",
              "5353           4                           2               0   \n",
              "3025           4                           0               0   \n",
              "...          ...                         ...             ...   \n",
              "412            4                           1               1   \n",
              "3915           2                           0               1   \n",
              "38            11                           0               0   \n",
              "4335           1                           1               1   \n",
              "3918           2                           0               1   \n",
              "\n",
              "      Product_Category_1  Product_Category_2  Product_Category_3  \n",
              "3335                   3                 4.0                 5.0  \n",
              "6423                  19                 9.0                14.0  \n",
              "5808                   5                11.0                14.0  \n",
              "5353                   8                15.0                14.0  \n",
              "3025                   2                 4.0                 9.0  \n",
              "...                  ...                 ...                 ...  \n",
              "412                    5                 9.0                14.0  \n",
              "3915                   8                 9.0                14.0  \n",
              "38                     5                14.0                14.0  \n",
              "4335                   5                 9.0                14.0  \n",
              "3918                   8                 9.0                14.0  \n",
              "\n",
              "[8037 rows x 6 columns]"
            ],
            "text/html": [
              "\n",
              "  <div id=\"df-c4a620a7-e00f-4de8-9ef0-b0c06782a513\">\n",
              "    <div class=\"colab-df-container\">\n",
              "      <div>\n",
              "<style scoped>\n",
              "    .dataframe tbody tr th:only-of-type {\n",
              "        vertical-align: middle;\n",
              "    }\n",
              "\n",
              "    .dataframe tbody tr th {\n",
              "        vertical-align: top;\n",
              "    }\n",
              "\n",
              "    .dataframe thead th {\n",
              "        text-align: right;\n",
              "    }\n",
              "</style>\n",
              "<table border=\"1\" class=\"dataframe\">\n",
              "  <thead>\n",
              "    <tr style=\"text-align: right;\">\n",
              "      <th></th>\n",
              "      <th>Occupation</th>\n",
              "      <th>Stay_In_Current_City_Years</th>\n",
              "      <th>Marital_Status</th>\n",
              "      <th>Product_Category_1</th>\n",
              "      <th>Product_Category_2</th>\n",
              "      <th>Product_Category_3</th>\n",
              "    </tr>\n",
              "  </thead>\n",
              "  <tbody>\n",
              "    <tr>\n",
              "      <th>3335</th>\n",
              "      <td>6</td>\n",
              "      <td>0</td>\n",
              "      <td>0</td>\n",
              "      <td>3</td>\n",
              "      <td>4.0</td>\n",
              "      <td>5.0</td>\n",
              "    </tr>\n",
              "    <tr>\n",
              "      <th>6423</th>\n",
              "      <td>3</td>\n",
              "      <td>1</td>\n",
              "      <td>0</td>\n",
              "      <td>19</td>\n",
              "      <td>9.0</td>\n",
              "      <td>14.0</td>\n",
              "    </tr>\n",
              "    <tr>\n",
              "      <th>5808</th>\n",
              "      <td>1</td>\n",
              "      <td>1</td>\n",
              "      <td>0</td>\n",
              "      <td>5</td>\n",
              "      <td>11.0</td>\n",
              "      <td>14.0</td>\n",
              "    </tr>\n",
              "    <tr>\n",
              "      <th>5353</th>\n",
              "      <td>4</td>\n",
              "      <td>2</td>\n",
              "      <td>0</td>\n",
              "      <td>8</td>\n",
              "      <td>15.0</td>\n",
              "      <td>14.0</td>\n",
              "    </tr>\n",
              "    <tr>\n",
              "      <th>3025</th>\n",
              "      <td>4</td>\n",
              "      <td>0</td>\n",
              "      <td>0</td>\n",
              "      <td>2</td>\n",
              "      <td>4.0</td>\n",
              "      <td>9.0</td>\n",
              "    </tr>\n",
              "    <tr>\n",
              "      <th>...</th>\n",
              "      <td>...</td>\n",
              "      <td>...</td>\n",
              "      <td>...</td>\n",
              "      <td>...</td>\n",
              "      <td>...</td>\n",
              "      <td>...</td>\n",
              "    </tr>\n",
              "    <tr>\n",
              "      <th>412</th>\n",
              "      <td>4</td>\n",
              "      <td>1</td>\n",
              "      <td>1</td>\n",
              "      <td>5</td>\n",
              "      <td>9.0</td>\n",
              "      <td>14.0</td>\n",
              "    </tr>\n",
              "    <tr>\n",
              "      <th>3915</th>\n",
              "      <td>2</td>\n",
              "      <td>0</td>\n",
              "      <td>1</td>\n",
              "      <td>8</td>\n",
              "      <td>9.0</td>\n",
              "      <td>14.0</td>\n",
              "    </tr>\n",
              "    <tr>\n",
              "      <th>38</th>\n",
              "      <td>11</td>\n",
              "      <td>0</td>\n",
              "      <td>0</td>\n",
              "      <td>5</td>\n",
              "      <td>14.0</td>\n",
              "      <td>14.0</td>\n",
              "    </tr>\n",
              "    <tr>\n",
              "      <th>4335</th>\n",
              "      <td>1</td>\n",
              "      <td>1</td>\n",
              "      <td>1</td>\n",
              "      <td>5</td>\n",
              "      <td>9.0</td>\n",
              "      <td>14.0</td>\n",
              "    </tr>\n",
              "    <tr>\n",
              "      <th>3918</th>\n",
              "      <td>2</td>\n",
              "      <td>0</td>\n",
              "      <td>1</td>\n",
              "      <td>8</td>\n",
              "      <td>9.0</td>\n",
              "      <td>14.0</td>\n",
              "    </tr>\n",
              "  </tbody>\n",
              "</table>\n",
              "<p>8037 rows × 6 columns</p>\n",
              "</div>\n",
              "      <button class=\"colab-df-convert\" onclick=\"convertToInteractive('df-c4a620a7-e00f-4de8-9ef0-b0c06782a513')\"\n",
              "              title=\"Convert this dataframe to an interactive table.\"\n",
              "              style=\"display:none;\">\n",
              "        \n",
              "  <svg xmlns=\"http://www.w3.org/2000/svg\" height=\"24px\"viewBox=\"0 0 24 24\"\n",
              "       width=\"24px\">\n",
              "    <path d=\"M0 0h24v24H0V0z\" fill=\"none\"/>\n",
              "    <path d=\"M18.56 5.44l.94 2.06.94-2.06 2.06-.94-2.06-.94-.94-2.06-.94 2.06-2.06.94zm-11 1L8.5 8.5l.94-2.06 2.06-.94-2.06-.94L8.5 2.5l-.94 2.06-2.06.94zm10 10l.94 2.06.94-2.06 2.06-.94-2.06-.94-.94-2.06-.94 2.06-2.06.94z\"/><path d=\"M17.41 7.96l-1.37-1.37c-.4-.4-.92-.59-1.43-.59-.52 0-1.04.2-1.43.59L10.3 9.45l-7.72 7.72c-.78.78-.78 2.05 0 2.83L4 21.41c.39.39.9.59 1.41.59.51 0 1.02-.2 1.41-.59l7.78-7.78 2.81-2.81c.8-.78.8-2.07 0-2.86zM5.41 20L4 18.59l7.72-7.72 1.47 1.35L5.41 20z\"/>\n",
              "  </svg>\n",
              "      </button>\n",
              "      \n",
              "  <style>\n",
              "    .colab-df-container {\n",
              "      display:flex;\n",
              "      flex-wrap:wrap;\n",
              "      gap: 12px;\n",
              "    }\n",
              "\n",
              "    .colab-df-convert {\n",
              "      background-color: #E8F0FE;\n",
              "      border: none;\n",
              "      border-radius: 50%;\n",
              "      cursor: pointer;\n",
              "      display: none;\n",
              "      fill: #1967D2;\n",
              "      height: 32px;\n",
              "      padding: 0 0 0 0;\n",
              "      width: 32px;\n",
              "    }\n",
              "\n",
              "    .colab-df-convert:hover {\n",
              "      background-color: #E2EBFA;\n",
              "      box-shadow: 0px 1px 2px rgba(60, 64, 67, 0.3), 0px 1px 3px 1px rgba(60, 64, 67, 0.15);\n",
              "      fill: #174EA6;\n",
              "    }\n",
              "\n",
              "    [theme=dark] .colab-df-convert {\n",
              "      background-color: #3B4455;\n",
              "      fill: #D2E3FC;\n",
              "    }\n",
              "\n",
              "    [theme=dark] .colab-df-convert:hover {\n",
              "      background-color: #434B5C;\n",
              "      box-shadow: 0px 1px 3px 1px rgba(0, 0, 0, 0.15);\n",
              "      filter: drop-shadow(0px 1px 2px rgba(0, 0, 0, 0.3));\n",
              "      fill: #FFFFFF;\n",
              "    }\n",
              "  </style>\n",
              "\n",
              "      <script>\n",
              "        const buttonEl =\n",
              "          document.querySelector('#df-c4a620a7-e00f-4de8-9ef0-b0c06782a513 button.colab-df-convert');\n",
              "        buttonEl.style.display =\n",
              "          google.colab.kernel.accessAllowed ? 'block' : 'none';\n",
              "\n",
              "        async function convertToInteractive(key) {\n",
              "          const element = document.querySelector('#df-c4a620a7-e00f-4de8-9ef0-b0c06782a513');\n",
              "          const dataTable =\n",
              "            await google.colab.kernel.invokeFunction('convertToInteractive',\n",
              "                                                     [key], {});\n",
              "          if (!dataTable) return;\n",
              "\n",
              "          const docLinkHtml = 'Like what you see? Visit the ' +\n",
              "            '<a target=\"_blank\" href=https://colab.research.google.com/notebooks/data_table.ipynb>data table notebook</a>'\n",
              "            + ' to learn more about interactive tables.';\n",
              "          element.innerHTML = '';\n",
              "          dataTable['output_type'] = 'display_data';\n",
              "          await google.colab.output.renderOutput(dataTable, element);\n",
              "          const docLink = document.createElement('div');\n",
              "          docLink.innerHTML = docLinkHtml;\n",
              "          element.appendChild(docLink);\n",
              "        }\n",
              "      </script>\n",
              "    </div>\n",
              "  </div>\n",
              "  "
            ]
          },
          "metadata": {},
          "execution_count": 38
        }
      ]
    },
    {
      "cell_type": "markdown",
      "source": [
        "## **Pipeline**"
      ],
      "metadata": {
        "id": "k6cjRTHE10_7"
      }
    },
    {
      "cell_type": "code",
      "source": [
        "# Make Pipeline for Numerical Value\n",
        "num_pipeline = Pipeline([\n",
        "        ('imputer', SimpleImputer(strategy='median')),\n",
        "        ('scaler', MinMaxScaler())\n",
        "    ])\n",
        "\n",
        "X_train_num_tr = num_pipeline.fit_transform(X_train_num[['Occupation',\t'Stay_In_Current_City_Years',\t'Marital_Status',\t'Product_Category_1',\t'Product_Category_2',\t'Product_Category_3']])\n",
        "X_train_num_tr"
      ],
      "metadata": {
        "colab": {
          "base_uri": "https://localhost:8080/"
        },
        "id": "toG-kkA34RMB",
        "outputId": "bfa4c199-d646-4348-b36e-13856308cbe3"
      },
      "execution_count": 39,
      "outputs": [
        {
          "output_type": "execute_result",
          "data": {
            "text/plain": [
              "array([[0.3       , 0.        , 0.        , 0.10526316, 0.125     ,\n",
              "        0.13333333],\n",
              "       [0.15      , 0.25      , 0.        , 0.94736842, 0.4375    ,\n",
              "        0.73333333],\n",
              "       [0.05      , 0.25      , 0.        , 0.21052632, 0.5625    ,\n",
              "        0.73333333],\n",
              "       ...,\n",
              "       [0.55      , 0.        , 0.        , 0.21052632, 0.75      ,\n",
              "        0.73333333],\n",
              "       [0.05      , 0.25      , 1.        , 0.21052632, 0.4375    ,\n",
              "        0.73333333],\n",
              "       [0.1       , 0.        , 1.        , 0.36842105, 0.4375    ,\n",
              "        0.73333333]])"
            ]
          },
          "metadata": {},
          "execution_count": 39
        }
      ]
    },
    {
      "cell_type": "code",
      "source": [
        "# Make Pipeline for Ordinal/Categorical Value\n",
        "cat_1_pipeline = Pipeline([\n",
        "        ('ordinal_enc', OrdinalEncoder(categories=[['0-17', '18-25', '26-35', '36-45', '46-50', '51-55', '55+']])) #age\n",
        "    ])\n",
        "\n",
        "X_train_cat_1_tr = cat_1_pipeline.fit_transform(X_train_cat[['Age']])\n",
        "X_train_cat_1_tr"
      ],
      "metadata": {
        "colab": {
          "base_uri": "https://localhost:8080/"
        },
        "id": "Jq77mwhS52kb",
        "outputId": "1a0bd256-75dc-4993-bae1-22bc17b9b446"
      },
      "execution_count": 40,
      "outputs": [
        {
          "output_type": "execute_result",
          "data": {
            "text/plain": [
              "array([[2.],\n",
              "       [6.],\n",
              "       [2.],\n",
              "       ...,\n",
              "       [1.],\n",
              "       [2.],\n",
              "       [2.]])"
            ]
          },
          "metadata": {},
          "execution_count": 40
        }
      ]
    },
    {
      "cell_type": "code",
      "source": [
        "# Make Pipeline for Categorical Value\n",
        "cat_2_pipeline = Pipeline([\n",
        "        ('ohe_enc', OneHotEncoder(handle_unknown='ignore', sparse=False)) #Gender, City_Category\n",
        "    ])\n",
        "\n",
        "X_train_cat_2_tr = cat_2_pipeline.fit_transform(X_train[['Gender', 'City_Category']])\n",
        "X_train_cat_2_tr"
      ],
      "metadata": {
        "colab": {
          "base_uri": "https://localhost:8080/"
        },
        "id": "v_hRpoWn7l43",
        "outputId": "367c60b3-bd12-45c0-a716-0642b3fb8d4e"
      },
      "execution_count": 41,
      "outputs": [
        {
          "output_type": "execute_result",
          "data": {
            "text/plain": [
              "array([[1., 0., 0., 0., 1.],\n",
              "       [1., 0., 0., 0., 1.],\n",
              "       [1., 0., 0., 1., 0.],\n",
              "       ...,\n",
              "       [0., 1., 0., 1., 0.],\n",
              "       [0., 1., 1., 0., 0.],\n",
              "       [0., 1., 1., 0., 0.]])"
            ]
          },
          "metadata": {},
          "execution_count": 41
        }
      ]
    },
    {
      "cell_type": "code",
      "source": [
        "# Combine Pipeline\n",
        "full_pipeline = ColumnTransformer([\n",
        "        (\"num\", num_pipeline, ['Occupation',\t'Stay_In_Current_City_Years',\t'Marital_Status',\t'Product_Category_1',\t'Product_Category_2',\t'Product_Category_3']),\n",
        "        (\"cat_ord\", cat_1_pipeline, ['Age']),\n",
        "        (\"cat_ohe\", cat_2_pipeline, ['Gender', 'City_Category']),\n",
        "    ])\n",
        "\n",
        "X_train_tr = full_pipeline.fit_transform(X_train)\n",
        "X_train_tr"
      ],
      "metadata": {
        "colab": {
          "base_uri": "https://localhost:8080/"
        },
        "id": "MWGLfqJv1T9m",
        "outputId": "31b60e5a-f184-409b-ece4-ec8c1d881306"
      },
      "execution_count": 42,
      "outputs": [
        {
          "output_type": "execute_result",
          "data": {
            "text/plain": [
              "array([[0.3 , 0.  , 0.  , ..., 0.  , 0.  , 1.  ],\n",
              "       [0.15, 0.25, 0.  , ..., 0.  , 0.  , 1.  ],\n",
              "       [0.05, 0.25, 0.  , ..., 0.  , 1.  , 0.  ],\n",
              "       ...,\n",
              "       [0.55, 0.  , 0.  , ..., 0.  , 1.  , 0.  ],\n",
              "       [0.05, 0.25, 1.  , ..., 1.  , 0.  , 0.  ],\n",
              "       [0.1 , 0.  , 1.  , ..., 1.  , 0.  , 0.  ]])"
            ]
          },
          "metadata": {},
          "execution_count": 42
        }
      ]
    },
    {
      "cell_type": "code",
      "source": [
        "# Transform pipeline to `X_test`\n",
        "X_test_tr = full_pipeline.transform(X_test)\n",
        "X_test_tr"
      ],
      "metadata": {
        "colab": {
          "base_uri": "https://localhost:8080/"
        },
        "id": "310Jol_2EvVJ",
        "outputId": "eeb7da9f-1481-4591-ea3d-1c721dddb90e"
      },
      "execution_count": 43,
      "outputs": [
        {
          "output_type": "execute_result",
          "data": {
            "text/plain": [
              "array([[0.35, 1.  , 0.  , ..., 1.  , 0.  , 0.  ],\n",
              "       [0.05, 0.  , 0.  , ..., 0.  , 1.  , 0.  ],\n",
              "       [0.05, 0.75, 1.  , ..., 1.  , 0.  , 0.  ],\n",
              "       ...,\n",
              "       [0.25, 0.25, 0.  , ..., 0.  , 0.  , 1.  ],\n",
              "       [0.  , 0.5 , 1.  , ..., 0.  , 0.  , 1.  ],\n",
              "       [1.  , 1.  , 0.  , ..., 0.  , 1.  , 0.  ]])"
            ]
          },
          "metadata": {},
          "execution_count": 43
        }
      ]
    },
    {
      "cell_type": "markdown",
      "source": [
        "# **VI. Model Definition, Training, and Predict**"
      ],
      "metadata": {
        "id": "ht5hUBT6GSmR"
      }
    },
    {
      "cell_type": "code",
      "source": [
        "# Define Model\n",
        "model_linreg = LinearRegression(fit_intercept=True)\n",
        "model_logreg = LogisticRegression(C=0.07)\n",
        "dt_regressor = DecisionTreeRegressor(random_state = 0)\n",
        "rf_regressor = RandomForestRegressor(n_estimators = 300 ,  random_state = 0)\n",
        "svm_regressor= SVR(kernel='rbf')"
      ],
      "metadata": {
        "id": "q8tzG0EhGb4n"
      },
      "execution_count": 44,
      "outputs": []
    },
    {
      "cell_type": "code",
      "source": [
        "# Linear Regression\n",
        "model_linreg.fit(X_train_tr, y_train)\n",
        "\n",
        "#Predicting using train and test set\n",
        "y_pred_linreg_train = model_linreg.predict(X_train_tr)\n",
        "y_pred_linreg_test = model_linreg.predict(X_test_tr)"
      ],
      "metadata": {
        "id": "jK-AjDPhdmkK"
      },
      "execution_count": 45,
      "outputs": []
    },
    {
      "cell_type": "code",
      "source": [
        "# Logistic Regression\n",
        "model_logreg.fit(X_train_tr, y_train)\n",
        "\n",
        "# Predicting using train and test set\n",
        "y_pred_logreg_train = model_logreg.predict(X_train_tr)\n",
        "y_pred_logreg_test = model_logreg.predict(X_test_tr)\n"
      ],
      "metadata": {
        "id": "84WrwWmadvtD"
      },
      "execution_count": 46,
      "outputs": []
    },
    {
      "cell_type": "code",
      "source": [
        "# Decision Tree Regressor\n",
        "dt_regressor.fit(X_train_tr, y_train)\n",
        "\n",
        "#Predicting using train and test set\n",
        "y_pred_dt_train = model_linreg.predict(X_train_tr)\n",
        "y_pred_dt_test = model_linreg.predict(X_test_tr)\n"
      ],
      "metadata": {
        "id": "mKrc7G8odqhb"
      },
      "execution_count": 50,
      "outputs": []
    },
    {
      "cell_type": "code",
      "source": [
        "# Random Forest Regressor\n",
        "rf_regressor.fit(X_train_tr, y_train)\n",
        "\n",
        "#Predicting using train and test set\n",
        "y_pred_rf_train = rf_regressor.predict(X_train_tr)\n",
        "y_pred_rf_test = rf_regressor.predict(X_test_tr)\n"
      ],
      "metadata": {
        "id": "6zXzbbzxwxLU"
      },
      "execution_count": 59,
      "outputs": []
    },
    {
      "cell_type": "code",
      "source": [
        "# SVM Regressor\n",
        "svm_regressor.fit(X_train_tr, y_train)\n",
        "\n",
        "#Predicting using train and test set\n",
        "y_pred_svm_train = svm_regressor.predict(X_train_tr)\n",
        "y_pred_svm_test = svm_regressor.predict(X_test_tr)\n"
      ],
      "metadata": {
        "id": "pXHjK0FMeDCT"
      },
      "execution_count": 51,
      "outputs": []
    },
    {
      "cell_type": "markdown",
      "source": [
        "# **VII. Model Evaluation**"
      ],
      "metadata": {
        "id": "CH_tFpPYeuHQ"
      }
    },
    {
      "cell_type": "code",
      "source": [
        "# Evaluation for Linear Regression\n",
        "mae_train_lr=metrics.mean_absolute_error(y_train, y_pred_linreg_train)\n",
        "mse_train_lr=metrics.mean_squared_error(y_train, y_pred_linreg_train)\n",
        "mae_test_lr=metrics.mean_absolute_error(y_test, y_pred_linreg_test)\n",
        "mse_test_lr=metrics.mean_squared_error(y_test, y_pred_linreg_test)\n",
        "\n",
        "# Printing the metrics\n",
        "print('Linear Regression Accuracy: ', model_linreg.score(X_test_tr,y_test))\n",
        "print('R2 square:',metrics.r2_score(y_train, y_pred_linreg_train))\n",
        "print('MAE: ', mae_train_lr)\n",
        "print('MSE: ', mse_train_lr)\n",
        "print('-'*90)\n",
        "print('R2 square:',metrics.r2_score(y_test, y_pred_linreg_test))\n",
        "print('MAE: ', mae_test_lr)\n",
        "print('MSE: ', mse_test_lr)"
      ],
      "metadata": {
        "colab": {
          "base_uri": "https://localhost:8080/"
        },
        "id": "kwH2CjeCWcva",
        "outputId": "eacf4bd6-4d2b-41f1-8bfd-2b25f6c714be"
      },
      "execution_count": 57,
      "outputs": [
        {
          "output_type": "stream",
          "name": "stdout",
          "text": [
            "Linear Regression Accuracy:  0.6118556894324103\n",
            "R2 square: 0.6058881354361568\n",
            "MAE:  2252.082690454368\n",
            "MSE:  13446234.315070992\n",
            "------------------------------------------------------------------------------------------\n",
            "R2 square: 0.6118556894324103\n",
            "MAE:  2288.2847282620396\n",
            "MSE:  13267500.155404257\n"
          ]
        }
      ]
    },
    {
      "cell_type": "code",
      "source": [
        "# Evaluation for Logistic Regression\n",
        "mae_train_logreg=metrics.mean_absolute_error(y_train, y_pred_logreg_train)\n",
        "mse_train_logreg=metrics.mean_squared_error(y_train, y_pred_logreg_train)\n",
        "mae_test_logreg=metrics.mean_absolute_error(y_test, y_pred_logreg_test)\n",
        "mse_test_logreg=metrics.mean_squared_error(y_test, y_pred_logreg_test)\n",
        "\n",
        "# Printing the metrics\n",
        "print('Decision Tree Regressor Accuracy: ', dt_regressor.score(X_test_tr,y_test))\n",
        "print('R2 square:',metrics.r2_score(y_train, y_pred_logreg_train))\n",
        "print('MAE: ', mae_train_logreg)\n",
        "print('MSE: ', mse_train_logreg)\n",
        "print('-'*90)\n",
        "print('R2 square:',metrics.r2_score(y_test, y_pred_logreg_test))\n",
        "print('MAE: ', mae_test_logreg)\n",
        "print('MSE: ', mse_test_logreg)"
      ],
      "metadata": {
        "colab": {
          "base_uri": "https://localhost:8080/"
        },
        "id": "C6xkUgTCx2vI",
        "outputId": "501ef317-b254-4edf-a96e-7201abda0e2f"
      },
      "execution_count": 62,
      "outputs": [
        {
          "output_type": "stream",
          "name": "stdout",
          "text": [
            "Decision Tree Regressor Accuracy:  0.6834735078453652\n",
            "R2 square: -0.8955359316430911\n",
            "MAE:  5530.243249968894\n",
            "MSE:  64671537.65521961\n",
            "------------------------------------------------------------------------------------------\n",
            "R2 square: -0.867197757868009\n",
            "MAE:  5447.702985074627\n",
            "MSE:  63824319.63631841\n"
          ]
        }
      ]
    },
    {
      "cell_type": "code",
      "source": [
        "# Evaluation for Decision Tree Regressor\n",
        "mae_train_dt=metrics.mean_absolute_error(y_train, y_pred_dt_train)\n",
        "mse_train_dt=metrics.mean_squared_error(y_train, y_pred_dt_train)\n",
        "mae_test_dt=metrics.mean_absolute_error(y_test, y_pred_dt_test)\n",
        "mse_test_dt=metrics.mean_squared_error(y_test, y_pred_dt_test)\n",
        "\n",
        "# Printing the metrics\n",
        "print('Decision Tree Regressor Accuracy: ', dt_regressor.score(X_test_tr,y_test))\n",
        "print('R2 square:',metrics.r2_score(y_train, y_pred_dt_train))\n",
        "print('MAE: ', mae_train_dt)\n",
        "print('MSE: ', mse_train_dt)\n",
        "print('-'*90)\n",
        "print('R2 square:',metrics.r2_score(y_test, y_pred_dt_test))\n",
        "print('MAE: ', mae_test_dt)\n",
        "print('MSE: ', mse_test_dt)"
      ],
      "metadata": {
        "colab": {
          "base_uri": "https://localhost:8080/"
        },
        "id": "InsPK41VYxGt",
        "outputId": "79c55b6c-b2d1-41d0-dc9e-fa3b21542054"
      },
      "execution_count": 63,
      "outputs": [
        {
          "output_type": "stream",
          "name": "stdout",
          "text": [
            "Decision Tree Regressor Accuracy:  0.6834735078453652\n",
            "R2 square: 0.6058881354361568\n",
            "MAE:  2252.082690454368\n",
            "MSE:  13446234.315070992\n",
            "------------------------------------------------------------------------------------------\n",
            "R2 square: 0.6118556894324103\n",
            "MAE:  2288.2847282620396\n",
            "MSE:  13267500.155404257\n"
          ]
        }
      ]
    },
    {
      "cell_type": "code",
      "source": [
        "# Evaluation for Random Forest Regressor\n",
        "mae_train_rf=metrics.mean_absolute_error(y_train, y_pred_rf_train)\n",
        "mse_train_rf=metrics.mean_squared_error(y_train, y_pred_rf_train)\n",
        "mae_test_rf=metrics.mean_absolute_error(y_test, y_pred_rf_test)\n",
        "mse_test_rf=metrics.mean_squared_error(y_test, y_pred_rf_test)\n",
        "\n",
        "# Printing the metrics\n",
        "print('Random Forest Regressor Accuracy: ', rf_regressor.score(X_test_tr,y_test))\n",
        "print('R2 square:',metrics.r2_score(y_train, y_pred_rf_train))\n",
        "print('MAE: ', mae_train_rf)\n",
        "print('MSE: ', mse_train_rf)\n",
        "print('-'*90)\n",
        "print('R2 square:',metrics.r2_score(y_test, y_pred_rf_test))\n",
        "print('MAE: ', mae_test_rf)\n",
        "print('MSE: ', mse_test_rf)"
      ],
      "metadata": {
        "colab": {
          "base_uri": "https://localhost:8080/"
        },
        "id": "4_qUV5yacNWh",
        "outputId": "b801bec7-96ce-4ed9-cf79-912e5d3642fe"
      },
      "execution_count": 61,
      "outputs": [
        {
          "output_type": "stream",
          "name": "stdout",
          "text": [
            "Random Forest Regressor Accuracy:  0.8174492988942509\n",
            "R2 square: 0.9642910058842642\n",
            "MAE:  629.0897399520541\n",
            "MSE:  1218312.7309984693\n",
            "------------------------------------------------------------------------------------------\n",
            "R2 square: 0.8174492988942509\n",
            "MAE:  1435.8037916783092\n",
            "MSE:  6239925.175633682\n"
          ]
        }
      ]
    },
    {
      "cell_type": "code",
      "source": [
        "# Evaluation for SVM Regressor\n",
        "mae_train_svm=metrics.mean_absolute_error(y_train, y_pred_svm_train)\n",
        "mse_train_svm=metrics.mean_squared_error(y_train, y_pred_svm_train)\n",
        "mae_test_svm=metrics.mean_absolute_error(y_test, y_pred_svm_test)\n",
        "mse_test_svm=metrics.mean_squared_error(y_test, y_pred_svm_test)\n",
        "\n",
        "# Printing the metrics\n",
        "print('SVM Regressor Accuracy: ', svm_regressor.score(X_test_tr,y_test))\n",
        "print('R2 square:',metrics.r2_score(y_train, y_pred_svm_train))\n",
        "print('MAE: ', mae_train_svm)\n",
        "print('MSE: ', mse_train_svm)\n",
        "print('-'*90)\n",
        "print('R2 square:',metrics.r2_score(y_test, y_pred_svm_test))\n",
        "print('MAE: ', mae_test_svm)\n",
        "print('MSE: ', mse_test_svm)"
      ],
      "metadata": {
        "colab": {
          "base_uri": "https://localhost:8080/"
        },
        "id": "GOQXQ_Zqyj9i",
        "outputId": "1e5b44fe-4a2d-451d-be47-25b75e7f8888"
      },
      "execution_count": 64,
      "outputs": [
        {
          "output_type": "stream",
          "name": "stdout",
          "text": [
            "Random Forest Regressor Accuracy:  0.011886463139200498\n",
            "R2 square: 0.006090701989530656\n",
            "MAE:  4743.3924555194435\n",
            "MSE:  33910010.10275744\n",
            "------------------------------------------------------------------------------------------\n",
            "R2 square: 0.011886463139200498\n",
            "MAE:  4743.446438433909\n",
            "MSE:  33775573.01996012\n"
          ]
        }
      ]
    },
    {
      "cell_type": "markdown",
      "source": [
        "# **VIII. Model Improvement**"
      ],
      "metadata": {
        "id": "eNBUcuenzY13"
      }
    },
    {
      "cell_type": "markdown",
      "source": [
        "## **Using Grid search**"
      ],
      "metadata": {
        "id": "GaPCMJvY4jsr"
      }
    },
    {
      "cell_type": "code",
      "source": [
        "# Define the parameters required for grid search\n",
        "\n",
        "param_grid = {'bootstrap': [True], \n",
        "              'max_depth': [5, 10, None], \n",
        "              'max_features': ['auto', 'log2'], \n",
        "              'n_estimators': [5, 6, 7, 8, 9, 10, 11, 12, 13, 15]}\n",
        "print(param_grid)"
      ],
      "metadata": {
        "id": "JpccdfGRzUgn"
      },
      "execution_count": 69,
      "outputs": []
    },
    {
      "cell_type": "code",
      "source": [
        "# Define the type of model and initialize the GridSearchCV \n",
        "rf_regressor = RandomForestRegressor(random_state = 0)\n",
        "\n",
        "g_search = GridSearchCV(estimator = rf_regressor, param_grid = param_grid, \n",
        "                        cv = 3, n_jobs = 1, verbose = 0, return_train_score=True)"
      ],
      "metadata": {
        "id": "y4EBYjZX1o0W"
      },
      "execution_count": 71,
      "outputs": []
    },
    {
      "cell_type": "code",
      "source": [
        "# Train using Grid Search\n",
        "g_search.fit(X_train_tr, y_train);\n",
        "print(g_search.best_params_)"
      ],
      "metadata": {
        "colab": {
          "base_uri": "https://localhost:8080/"
        },
        "id": "vBc-zPZR2dFB",
        "outputId": "ec198a54-b3eb-43fb-d476-9c5a5184af93"
      },
      "execution_count": 80,
      "outputs": [
        {
          "output_type": "stream",
          "name": "stdout",
          "text": [
            "{'bootstrap': True, 'max_depth': 10, 'max_features': 'auto', 'n_estimators': 15}\n"
          ]
        }
      ]
    },
    {
      "cell_type": "code",
      "source": [
        "# Check the best score\n",
        "print(g_search.score(X_test_tr, y_test))"
      ],
      "metadata": {
        "colab": {
          "base_uri": "https://localhost:8080/"
        },
        "id": "CyREGeP83Wem",
        "outputId": "7da08dc5-fcc9-497f-f9ad-c8b459f057d3"
      },
      "execution_count": 73,
      "outputs": [
        {
          "output_type": "stream",
          "name": "stdout",
          "text": [
            "0.8337903319967537\n"
          ]
        }
      ]
    },
    {
      "cell_type": "markdown",
      "source": [
        "##**Using RandomizedSearchCV**"
      ],
      "metadata": {
        "id": "M9cTf1jo5zGC"
      }
    },
    {
      "cell_type": "code",
      "source": [
        "# Define the libraries required for random search\n",
        "n_estimators = [int(x) for x in np.linspace(start = 5 , stop = 15, num = 10)] # returns 10 numbers \n",
        "max_features = ['auto', 'log2']\n",
        "max_depth = [int(x) for x in np.linspace(5, 10, num = 2)] \n",
        "max_depth.append(None)\n",
        "bootstrap = [True, False]\n",
        "\n",
        "#Define all the parameters\n",
        "r_grid = {'n_estimators': n_estimators,\n",
        "          'max_features': max_features,\n",
        "          'max_depth': max_depth,\n",
        "          'bootstrap': bootstrap}\n",
        "print(r_grid)"
      ],
      "metadata": {
        "colab": {
          "base_uri": "https://localhost:8080/"
        },
        "id": "0VPnFOUE5zoP",
        "outputId": "5ca3ca25-c1df-4657-a1c7-4c3bc443507b"
      },
      "execution_count": 74,
      "outputs": [
        {
          "output_type": "stream",
          "name": "stdout",
          "text": [
            "{'n_estimators': [5, 6, 7, 8, 9, 10, 11, 12, 13, 15], 'max_features': ['auto', 'log2'], 'max_depth': [5, 10, None], 'bootstrap': [True, False]}\n"
          ]
        }
      ]
    },
    {
      "cell_type": "code",
      "source": [
        "# Define the type of model and initialize the GridSearchCV \n",
        "rf_regressor = RandomForestRegressor(random_state = 0)\n",
        "\n",
        "rfr_random = RandomizedSearchCV(estimator=rf_regressor, param_distributions=r_grid, n_iter = 20, \n",
        "                                cv = 3, verbose=2, random_state=53, n_jobs=1, \n",
        "                                return_train_score=True)\n"
      ],
      "metadata": {
        "id": "ybiQvC_j7Due"
      },
      "execution_count": 81,
      "outputs": []
    },
    {
      "cell_type": "code",
      "source": [
        "# Train using Randomized Search\n",
        "rfr_random.fit(X_train_tr, y_train)\n",
        "print(rfr_random.best_params_)"
      ],
      "metadata": {
        "id": "CTYCIi7w8qsR"
      },
      "execution_count": null,
      "outputs": []
    },
    {
      "cell_type": "code",
      "source": [
        "# Best Score\n",
        "print(rfr_random.score(X_test_tr , y_test))"
      ],
      "metadata": {
        "colab": {
          "base_uri": "https://localhost:8080/"
        },
        "id": "TsWsSfiM76fn",
        "outputId": "db9675b3-078d-438b-91b1-f56136550558"
      },
      "execution_count": 86,
      "outputs": [
        {
          "output_type": "stream",
          "name": "stdout",
          "text": [
            "0.8339955578132996\n"
          ]
        }
      ]
    },
    {
      "cell_type": "markdown",
      "source": [
        "##**New Model**"
      ],
      "metadata": {
        "id": "pwxZi1UoA8Fy"
      }
    },
    {
      "cell_type": "code",
      "source": [
        "# Train new Model\n",
        "model = g_search.best_estimator_\n",
        "model.fit(X_train_tr, y_train)\n",
        "# Predict using new model\n",
        "model_train = model.predict(X_train_tr)\n",
        "model_test = model.predict(X_test_tr)"
      ],
      "metadata": {
        "id": "BNpqjoqUB1gj"
      },
      "execution_count": 93,
      "outputs": []
    },
    {
      "cell_type": "code",
      "source": [
        "# Evaluation for Linear Regression\n",
        "mae_train_model=metrics.mean_absolute_error(y_train, model_train)\n",
        "mse_train_model=metrics.mean_squared_error(y_train, model_train)\n",
        "mae_test_model=metrics.mean_absolute_error(y_test, model_test)\n",
        "mse_test_model=metrics.mean_squared_error(y_test, model_test)\n",
        "\n",
        "# Printing the metrics\n",
        "\n",
        "print('Random Forest Regressor After Tuning: ', g_search.score(X_test_tr, y_test))\n",
        "print('R2 square:',metrics.r2_score(y_train, model_train))\n",
        "print('MAE: ', mae_train_svm)\n",
        "print('MSE: ', mse_train_svm)\n",
        "print('-'*90)\n",
        "print('R2 square:',metrics.r2_score(y_test, model_test))\n",
        "print('MAE: ', mae_test_svm)\n",
        "print('MSE: ', mse_test_svm)"
      ],
      "metadata": {
        "colab": {
          "base_uri": "https://localhost:8080/"
        },
        "id": "GbrpkDhSBip5",
        "outputId": "b3dbc0eb-3ec3-432c-ed37-3ca6f0ef973f"
      },
      "execution_count": 94,
      "outputs": [
        {
          "output_type": "stream",
          "name": "stdout",
          "text": [
            "Random Forest Regressor After Tuning:  0.8337903319967537\n",
            "R2 square: 0.8901518183630175\n",
            "MAE:  4743.3924555194435\n",
            "MSE:  33910010.10275744\n",
            "------------------------------------------------------------------------------------------\n",
            "R2 square: 0.8337903319967537\n",
            "MAE:  4743.446438433909\n",
            "MSE:  33775573.01996012\n"
          ]
        }
      ]
    },
    {
      "cell_type": "markdown",
      "source": [
        "##**Combine Pipeline**"
      ],
      "metadata": {
        "id": "VWyE4EgDFIEU"
      }
    },
    {
      "cell_type": "code",
      "source": [
        "full_pipeline"
      ],
      "metadata": {
        "colab": {
          "base_uri": "https://localhost:8080/"
        },
        "id": "yovvYBK0Dvt_",
        "outputId": "12d051d3-80a3-41ef-ddfd-52b641294fca"
      },
      "execution_count": 95,
      "outputs": [
        {
          "output_type": "execute_result",
          "data": {
            "text/plain": [
              "ColumnTransformer(transformers=[('num',\n",
              "                                 Pipeline(steps=[('imputer',\n",
              "                                                  SimpleImputer(strategy='median')),\n",
              "                                                 ('scaler', MinMaxScaler())]),\n",
              "                                 ['Occupation', 'Stay_In_Current_City_Years',\n",
              "                                  'Marital_Status', 'Product_Category_1',\n",
              "                                  'Product_Category_2', 'Product_Category_3']),\n",
              "                                ('cat_ord',\n",
              "                                 Pipeline(steps=[('ordinal_enc',\n",
              "                                                  OrdinalEncoder(categories=[['0-17',\n",
              "                                                                              '18-25',\n",
              "                                                                              '26-35',\n",
              "                                                                              '36-45',\n",
              "                                                                              '46-50',\n",
              "                                                                              '51-55',\n",
              "                                                                              '55+']]))]),\n",
              "                                 ['Age']),\n",
              "                                ('cat_ohe',\n",
              "                                 Pipeline(steps=[('ohe_enc',\n",
              "                                                  OneHotEncoder(handle_unknown='ignore',\n",
              "                                                                sparse=False))]),\n",
              "                                 ['Gender', 'City_Category'])])"
            ]
          },
          "metadata": {},
          "execution_count": 95
        }
      ]
    },
    {
      "cell_type": "code",
      "source": [
        "# Combine All Process\n",
        "all_process = Pipeline([\n",
        "    (\"preprocess\", full_pipeline),\n",
        "    (\"prediction\", model)\n",
        "])\n",
        "\n",
        "all_process.fit(X_train, y_train)\n",
        "hasil = all_process.predict(X_test)\n",
        "\n",
        "print('MAE test = ', mean_absolute_error(y_test, hasil))\n",
        "print('MSE test = ', mean_squared_error(y_test, hasil))\n",
        "print('RMSE test = ', np.sqrt(mean_squared_error(y_test, hasil)))\n",
        "print('r2score test = ', r2_score(y_test, hasil))"
      ],
      "metadata": {
        "colab": {
          "base_uri": "https://localhost:8080/"
        },
        "id": "VxXwD8bkD4wU",
        "outputId": "9a45e576-2a07-439c-b828-9ba525481e51"
      },
      "execution_count": 99,
      "outputs": [
        {
          "output_type": "stream",
          "name": "stdout",
          "text": [
            "MAE test =  1382.166962396212\n",
            "MSE test =  5681358.031084055\n",
            "RMSE test =  2383.5599491273665\n",
            "r2score test =  0.8337903319967537\n"
          ]
        }
      ]
    },
    {
      "cell_type": "markdown",
      "source": [
        "# **IX. Model Inference**"
      ],
      "metadata": {
        "id": "w56VALOF_c67"
      }
    },
    {
      "cell_type": "code",
      "source": [
        "# Save the Files\n",
        "\n",
        "import joblib\n",
        "import json\n",
        "\n",
        "with open('model_rf_regressor.pkl', 'wb') as file_1:\n",
        "  joblib.dump(model, file_1)\n",
        "\n",
        "with open('num_pipeline.pkl', 'wb') as file_2:\n",
        "  joblib.dump(num_pipeline, file_2)\n",
        "\n",
        "with open('cat_1_pipeline.pkl', 'wb') as file_3:\n",
        "  joblib.dump(cat_1_pipeline, file_3)\n",
        "\n",
        "with open('cat_2_pipeline.pkl', 'wb') as file_4:\n",
        "  joblib.dump(cat_2_pipeline, file_4)\n",
        "\n",
        "with open('list_num_cols.txt', 'w') as file_5:\n",
        "  json.dump(num_columns, file_5)\n",
        "\n",
        "with open('list_cat_cols.txt', 'w') as file_6:\n",
        "  json.dump(cat_columns, file_6)"
      ],
      "metadata": {
        "id": "MCupAPwXKocg"
      },
      "execution_count": 102,
      "outputs": []
    },
    {
      "cell_type": "code",
      "source": [
        "# Load All Files\n",
        "\n",
        "import joblib\n",
        "import json\n",
        "\n",
        "with open('model_rf_regressor.pkl', 'rb') as file_1:\n",
        "  model = joblib.load(file_1)\n",
        "\n",
        "with open('num_pipeline.pkl', 'rb') as file_2:\n",
        "  num_pipeline = joblib.load(file_2)\n",
        "\n",
        "with open('cat_1_pipeline.pkl', 'rb') as file_3:\n",
        "  cat_1_pipeline = joblib.load(file_3)\n",
        "\n",
        "with open('cat_2_pipeline.pkl', 'rb') as file_4:\n",
        "  cat_2_pipeline = joblib.load(file_4)\n",
        "\n",
        "with open('list_num_cols.txt', 'r') as file_5:\n",
        "  num_cols = json.load(file_5)\n",
        "\n",
        "with open('list_cat_cols.txt', 'r') as file_6:\n",
        "  cat_cols = json.load(file_6)"
      ],
      "metadata": {
        "id": "dmwEFuu5_lEF"
      },
      "execution_count": 103,
      "outputs": []
    },
    {
      "cell_type": "code",
      "source": [
        "# Display Inference Set\n",
        "\n",
        "data_inference.head()"
      ],
      "metadata": {
        "colab": {
          "base_uri": "https://localhost:8080/",
          "height": 357
        },
        "id": "NvOLvLEOJZpn",
        "outputId": "4ec1f3a9-7c8f-4c8c-84d7-119fc99e8212"
      },
      "execution_count": 105,
      "outputs": [
        {
          "output_type": "execute_result",
          "data": {
            "text/plain": [
              "   User_ID Product_ID Gender    Age  Occupation City_Category  \\\n",
              "0  1005998  P00130142      M  18-25           4             B   \n",
              "1  1002411  P00372445      F  36-45          14             B   \n",
              "2  1004478  P00372445      M   0-17          12             A   \n",
              "3  1003278  P00370853      M  36-45           7             A   \n",
              "4  1005916  P00259342      M  51-55          20             B   \n",
              "\n",
              "  Stay_In_Current_City_Years  Marital_Status  Product_Category_1  \\\n",
              "0                         4+               0                   8   \n",
              "1                          1               0                  20   \n",
              "2                          1               0                  20   \n",
              "3                          1               1                  19   \n",
              "4                          1               1                   5   \n",
              "\n",
              "   Product_Category_2  Product_Category_3  Purchase  \n",
              "0                 NaN                 NaN      7758  \n",
              "1                 NaN                 NaN       125  \n",
              "2                 NaN                 NaN       246  \n",
              "3                 NaN                 NaN        61  \n",
              "4                 9.0                 NaN      7039  "
            ],
            "text/html": [
              "\n",
              "  <div id=\"df-b8505fbd-36bf-4a97-b819-052b78d5480d\">\n",
              "    <div class=\"colab-df-container\">\n",
              "      <div>\n",
              "<style scoped>\n",
              "    .dataframe tbody tr th:only-of-type {\n",
              "        vertical-align: middle;\n",
              "    }\n",
              "\n",
              "    .dataframe tbody tr th {\n",
              "        vertical-align: top;\n",
              "    }\n",
              "\n",
              "    .dataframe thead th {\n",
              "        text-align: right;\n",
              "    }\n",
              "</style>\n",
              "<table border=\"1\" class=\"dataframe\">\n",
              "  <thead>\n",
              "    <tr style=\"text-align: right;\">\n",
              "      <th></th>\n",
              "      <th>User_ID</th>\n",
              "      <th>Product_ID</th>\n",
              "      <th>Gender</th>\n",
              "      <th>Age</th>\n",
              "      <th>Occupation</th>\n",
              "      <th>City_Category</th>\n",
              "      <th>Stay_In_Current_City_Years</th>\n",
              "      <th>Marital_Status</th>\n",
              "      <th>Product_Category_1</th>\n",
              "      <th>Product_Category_2</th>\n",
              "      <th>Product_Category_3</th>\n",
              "      <th>Purchase</th>\n",
              "    </tr>\n",
              "  </thead>\n",
              "  <tbody>\n",
              "    <tr>\n",
              "      <th>0</th>\n",
              "      <td>1005998</td>\n",
              "      <td>P00130142</td>\n",
              "      <td>M</td>\n",
              "      <td>18-25</td>\n",
              "      <td>4</td>\n",
              "      <td>B</td>\n",
              "      <td>4+</td>\n",
              "      <td>0</td>\n",
              "      <td>8</td>\n",
              "      <td>NaN</td>\n",
              "      <td>NaN</td>\n",
              "      <td>7758</td>\n",
              "    </tr>\n",
              "    <tr>\n",
              "      <th>1</th>\n",
              "      <td>1002411</td>\n",
              "      <td>P00372445</td>\n",
              "      <td>F</td>\n",
              "      <td>36-45</td>\n",
              "      <td>14</td>\n",
              "      <td>B</td>\n",
              "      <td>1</td>\n",
              "      <td>0</td>\n",
              "      <td>20</td>\n",
              "      <td>NaN</td>\n",
              "      <td>NaN</td>\n",
              "      <td>125</td>\n",
              "    </tr>\n",
              "    <tr>\n",
              "      <th>2</th>\n",
              "      <td>1004478</td>\n",
              "      <td>P00372445</td>\n",
              "      <td>M</td>\n",
              "      <td>0-17</td>\n",
              "      <td>12</td>\n",
              "      <td>A</td>\n",
              "      <td>1</td>\n",
              "      <td>0</td>\n",
              "      <td>20</td>\n",
              "      <td>NaN</td>\n",
              "      <td>NaN</td>\n",
              "      <td>246</td>\n",
              "    </tr>\n",
              "    <tr>\n",
              "      <th>3</th>\n",
              "      <td>1003278</td>\n",
              "      <td>P00370853</td>\n",
              "      <td>M</td>\n",
              "      <td>36-45</td>\n",
              "      <td>7</td>\n",
              "      <td>A</td>\n",
              "      <td>1</td>\n",
              "      <td>1</td>\n",
              "      <td>19</td>\n",
              "      <td>NaN</td>\n",
              "      <td>NaN</td>\n",
              "      <td>61</td>\n",
              "    </tr>\n",
              "    <tr>\n",
              "      <th>4</th>\n",
              "      <td>1005916</td>\n",
              "      <td>P00259342</td>\n",
              "      <td>M</td>\n",
              "      <td>51-55</td>\n",
              "      <td>20</td>\n",
              "      <td>B</td>\n",
              "      <td>1</td>\n",
              "      <td>1</td>\n",
              "      <td>5</td>\n",
              "      <td>9.0</td>\n",
              "      <td>NaN</td>\n",
              "      <td>7039</td>\n",
              "    </tr>\n",
              "  </tbody>\n",
              "</table>\n",
              "</div>\n",
              "      <button class=\"colab-df-convert\" onclick=\"convertToInteractive('df-b8505fbd-36bf-4a97-b819-052b78d5480d')\"\n",
              "              title=\"Convert this dataframe to an interactive table.\"\n",
              "              style=\"display:none;\">\n",
              "        \n",
              "  <svg xmlns=\"http://www.w3.org/2000/svg\" height=\"24px\"viewBox=\"0 0 24 24\"\n",
              "       width=\"24px\">\n",
              "    <path d=\"M0 0h24v24H0V0z\" fill=\"none\"/>\n",
              "    <path d=\"M18.56 5.44l.94 2.06.94-2.06 2.06-.94-2.06-.94-.94-2.06-.94 2.06-2.06.94zm-11 1L8.5 8.5l.94-2.06 2.06-.94-2.06-.94L8.5 2.5l-.94 2.06-2.06.94zm10 10l.94 2.06.94-2.06 2.06-.94-2.06-.94-.94-2.06-.94 2.06-2.06.94z\"/><path d=\"M17.41 7.96l-1.37-1.37c-.4-.4-.92-.59-1.43-.59-.52 0-1.04.2-1.43.59L10.3 9.45l-7.72 7.72c-.78.78-.78 2.05 0 2.83L4 21.41c.39.39.9.59 1.41.59.51 0 1.02-.2 1.41-.59l7.78-7.78 2.81-2.81c.8-.78.8-2.07 0-2.86zM5.41 20L4 18.59l7.72-7.72 1.47 1.35L5.41 20z\"/>\n",
              "  </svg>\n",
              "      </button>\n",
              "      \n",
              "  <style>\n",
              "    .colab-df-container {\n",
              "      display:flex;\n",
              "      flex-wrap:wrap;\n",
              "      gap: 12px;\n",
              "    }\n",
              "\n",
              "    .colab-df-convert {\n",
              "      background-color: #E8F0FE;\n",
              "      border: none;\n",
              "      border-radius: 50%;\n",
              "      cursor: pointer;\n",
              "      display: none;\n",
              "      fill: #1967D2;\n",
              "      height: 32px;\n",
              "      padding: 0 0 0 0;\n",
              "      width: 32px;\n",
              "    }\n",
              "\n",
              "    .colab-df-convert:hover {\n",
              "      background-color: #E2EBFA;\n",
              "      box-shadow: 0px 1px 2px rgba(60, 64, 67, 0.3), 0px 1px 3px 1px rgba(60, 64, 67, 0.15);\n",
              "      fill: #174EA6;\n",
              "    }\n",
              "\n",
              "    [theme=dark] .colab-df-convert {\n",
              "      background-color: #3B4455;\n",
              "      fill: #D2E3FC;\n",
              "    }\n",
              "\n",
              "    [theme=dark] .colab-df-convert:hover {\n",
              "      background-color: #434B5C;\n",
              "      box-shadow: 0px 1px 3px 1px rgba(0, 0, 0, 0.15);\n",
              "      filter: drop-shadow(0px 1px 2px rgba(0, 0, 0, 0.3));\n",
              "      fill: #FFFFFF;\n",
              "    }\n",
              "  </style>\n",
              "\n",
              "      <script>\n",
              "        const buttonEl =\n",
              "          document.querySelector('#df-b8505fbd-36bf-4a97-b819-052b78d5480d button.colab-df-convert');\n",
              "        buttonEl.style.display =\n",
              "          google.colab.kernel.accessAllowed ? 'block' : 'none';\n",
              "\n",
              "        async function convertToInteractive(key) {\n",
              "          const element = document.querySelector('#df-b8505fbd-36bf-4a97-b819-052b78d5480d');\n",
              "          const dataTable =\n",
              "            await google.colab.kernel.invokeFunction('convertToInteractive',\n",
              "                                                     [key], {});\n",
              "          if (!dataTable) return;\n",
              "\n",
              "          const docLinkHtml = 'Like what you see? Visit the ' +\n",
              "            '<a target=\"_blank\" href=https://colab.research.google.com/notebooks/data_table.ipynb>data table notebook</a>'\n",
              "            + ' to learn more about interactive tables.';\n",
              "          element.innerHTML = '';\n",
              "          dataTable['output_type'] = 'display_data';\n",
              "          await google.colab.output.renderOutput(dataTable, element);\n",
              "          const docLink = document.createElement('div');\n",
              "          docLink.innerHTML = docLinkHtml;\n",
              "          element.appendChild(docLink);\n",
              "        }\n",
              "      </script>\n",
              "    </div>\n",
              "  </div>\n",
              "  "
            ]
          },
          "metadata": {},
          "execution_count": 105
        }
      ]
    },
    {
      "cell_type": "code",
      "source": [
        "# Kak ini bingung Save the filesnya buat inferencingnya gimana?\n",
        "data_inference['Product_Category_2'].fillna(data_inference['Product_Category_2'].median(), inplace=True)\n",
        "data_inference['Product_Category_3'].fillna(data_inference['Product_Category_3'].median(), inplace=True)\n",
        "data_inference.replace(\"4+\", \"4\", inplace=True)\n",
        "data_inference = data_inference.astype({'Stay_In_Current_City_Years': int})"
      ],
      "metadata": {
        "id": "d2gIJcRONIKz"
      },
      "execution_count": 112,
      "outputs": []
    },
    {
      "cell_type": "code",
      "source": [
        "# Split between Numerical Columns and Categorical Columns\n",
        "\n",
        "data_inf_num = data_inference[num_cols]\n",
        "data_inf_cat = data_inference[cat_cols]\n",
        "\n",
        "data_inf_num.head()"
      ],
      "metadata": {
        "colab": {
          "base_uri": "https://localhost:8080/",
          "height": 206
        },
        "id": "NrSLZ9zbLUKV",
        "outputId": "133be6aa-5a24-49d7-d04f-cbe579a748d2"
      },
      "execution_count": 113,
      "outputs": [
        {
          "output_type": "execute_result",
          "data": {
            "text/plain": [
              "   Occupation  Stay_In_Current_City_Years  Marital_Status  Product_Category_1  \\\n",
              "0           4                           4               0                   8   \n",
              "1          14                           1               0                  20   \n",
              "2          12                           1               0                  20   \n",
              "3           7                           1               1                  19   \n",
              "4          20                           1               1                   5   \n",
              "\n",
              "   Product_Category_2  Product_Category_3  \n",
              "0                14.5                 NaN  \n",
              "1                14.5                 NaN  \n",
              "2                14.5                 NaN  \n",
              "3                14.5                 NaN  \n",
              "4                 9.0                 NaN  "
            ],
            "text/html": [
              "\n",
              "  <div id=\"df-aa5efe57-f02e-415f-ac48-1ac69d30a78b\">\n",
              "    <div class=\"colab-df-container\">\n",
              "      <div>\n",
              "<style scoped>\n",
              "    .dataframe tbody tr th:only-of-type {\n",
              "        vertical-align: middle;\n",
              "    }\n",
              "\n",
              "    .dataframe tbody tr th {\n",
              "        vertical-align: top;\n",
              "    }\n",
              "\n",
              "    .dataframe thead th {\n",
              "        text-align: right;\n",
              "    }\n",
              "</style>\n",
              "<table border=\"1\" class=\"dataframe\">\n",
              "  <thead>\n",
              "    <tr style=\"text-align: right;\">\n",
              "      <th></th>\n",
              "      <th>Occupation</th>\n",
              "      <th>Stay_In_Current_City_Years</th>\n",
              "      <th>Marital_Status</th>\n",
              "      <th>Product_Category_1</th>\n",
              "      <th>Product_Category_2</th>\n",
              "      <th>Product_Category_3</th>\n",
              "    </tr>\n",
              "  </thead>\n",
              "  <tbody>\n",
              "    <tr>\n",
              "      <th>0</th>\n",
              "      <td>4</td>\n",
              "      <td>4</td>\n",
              "      <td>0</td>\n",
              "      <td>8</td>\n",
              "      <td>14.5</td>\n",
              "      <td>NaN</td>\n",
              "    </tr>\n",
              "    <tr>\n",
              "      <th>1</th>\n",
              "      <td>14</td>\n",
              "      <td>1</td>\n",
              "      <td>0</td>\n",
              "      <td>20</td>\n",
              "      <td>14.5</td>\n",
              "      <td>NaN</td>\n",
              "    </tr>\n",
              "    <tr>\n",
              "      <th>2</th>\n",
              "      <td>12</td>\n",
              "      <td>1</td>\n",
              "      <td>0</td>\n",
              "      <td>20</td>\n",
              "      <td>14.5</td>\n",
              "      <td>NaN</td>\n",
              "    </tr>\n",
              "    <tr>\n",
              "      <th>3</th>\n",
              "      <td>7</td>\n",
              "      <td>1</td>\n",
              "      <td>1</td>\n",
              "      <td>19</td>\n",
              "      <td>14.5</td>\n",
              "      <td>NaN</td>\n",
              "    </tr>\n",
              "    <tr>\n",
              "      <th>4</th>\n",
              "      <td>20</td>\n",
              "      <td>1</td>\n",
              "      <td>1</td>\n",
              "      <td>5</td>\n",
              "      <td>9.0</td>\n",
              "      <td>NaN</td>\n",
              "    </tr>\n",
              "  </tbody>\n",
              "</table>\n",
              "</div>\n",
              "      <button class=\"colab-df-convert\" onclick=\"convertToInteractive('df-aa5efe57-f02e-415f-ac48-1ac69d30a78b')\"\n",
              "              title=\"Convert this dataframe to an interactive table.\"\n",
              "              style=\"display:none;\">\n",
              "        \n",
              "  <svg xmlns=\"http://www.w3.org/2000/svg\" height=\"24px\"viewBox=\"0 0 24 24\"\n",
              "       width=\"24px\">\n",
              "    <path d=\"M0 0h24v24H0V0z\" fill=\"none\"/>\n",
              "    <path d=\"M18.56 5.44l.94 2.06.94-2.06 2.06-.94-2.06-.94-.94-2.06-.94 2.06-2.06.94zm-11 1L8.5 8.5l.94-2.06 2.06-.94-2.06-.94L8.5 2.5l-.94 2.06-2.06.94zm10 10l.94 2.06.94-2.06 2.06-.94-2.06-.94-.94-2.06-.94 2.06-2.06.94z\"/><path d=\"M17.41 7.96l-1.37-1.37c-.4-.4-.92-.59-1.43-.59-.52 0-1.04.2-1.43.59L10.3 9.45l-7.72 7.72c-.78.78-.78 2.05 0 2.83L4 21.41c.39.39.9.59 1.41.59.51 0 1.02-.2 1.41-.59l7.78-7.78 2.81-2.81c.8-.78.8-2.07 0-2.86zM5.41 20L4 18.59l7.72-7.72 1.47 1.35L5.41 20z\"/>\n",
              "  </svg>\n",
              "      </button>\n",
              "      \n",
              "  <style>\n",
              "    .colab-df-container {\n",
              "      display:flex;\n",
              "      flex-wrap:wrap;\n",
              "      gap: 12px;\n",
              "    }\n",
              "\n",
              "    .colab-df-convert {\n",
              "      background-color: #E8F0FE;\n",
              "      border: none;\n",
              "      border-radius: 50%;\n",
              "      cursor: pointer;\n",
              "      display: none;\n",
              "      fill: #1967D2;\n",
              "      height: 32px;\n",
              "      padding: 0 0 0 0;\n",
              "      width: 32px;\n",
              "    }\n",
              "\n",
              "    .colab-df-convert:hover {\n",
              "      background-color: #E2EBFA;\n",
              "      box-shadow: 0px 1px 2px rgba(60, 64, 67, 0.3), 0px 1px 3px 1px rgba(60, 64, 67, 0.15);\n",
              "      fill: #174EA6;\n",
              "    }\n",
              "\n",
              "    [theme=dark] .colab-df-convert {\n",
              "      background-color: #3B4455;\n",
              "      fill: #D2E3FC;\n",
              "    }\n",
              "\n",
              "    [theme=dark] .colab-df-convert:hover {\n",
              "      background-color: #434B5C;\n",
              "      box-shadow: 0px 1px 3px 1px rgba(0, 0, 0, 0.15);\n",
              "      filter: drop-shadow(0px 1px 2px rgba(0, 0, 0, 0.3));\n",
              "      fill: #FFFFFF;\n",
              "    }\n",
              "  </style>\n",
              "\n",
              "      <script>\n",
              "        const buttonEl =\n",
              "          document.querySelector('#df-aa5efe57-f02e-415f-ac48-1ac69d30a78b button.colab-df-convert');\n",
              "        buttonEl.style.display =\n",
              "          google.colab.kernel.accessAllowed ? 'block' : 'none';\n",
              "\n",
              "        async function convertToInteractive(key) {\n",
              "          const element = document.querySelector('#df-aa5efe57-f02e-415f-ac48-1ac69d30a78b');\n",
              "          const dataTable =\n",
              "            await google.colab.kernel.invokeFunction('convertToInteractive',\n",
              "                                                     [key], {});\n",
              "          if (!dataTable) return;\n",
              "\n",
              "          const docLinkHtml = 'Like what you see? Visit the ' +\n",
              "            '<a target=\"_blank\" href=https://colab.research.google.com/notebooks/data_table.ipynb>data table notebook</a>'\n",
              "            + ' to learn more about interactive tables.';\n",
              "          element.innerHTML = '';\n",
              "          dataTable['output_type'] = 'display_data';\n",
              "          await google.colab.output.renderOutput(dataTable, element);\n",
              "          const docLink = document.createElement('div');\n",
              "          docLink.innerHTML = docLinkHtml;\n",
              "          element.appendChild(docLink);\n",
              "        }\n",
              "      </script>\n",
              "    </div>\n",
              "  </div>\n",
              "  "
            ]
          },
          "metadata": {},
          "execution_count": 113
        }
      ]
    },
    {
      "cell_type": "code",
      "source": [
        "data_inf_cat_1 = ['Age']\n",
        "data_inf_cat_2 = ['Gender', 'City_Category']"
      ],
      "metadata": {
        "id": "2Eq-UazzPsyo"
      },
      "execution_count": 122,
      "outputs": []
    },
    {
      "cell_type": "code",
      "source": [
        "# Feature Scaling and Feature Encoding\n",
        "\n",
        "data_inf_num_scaled = num_pipeline.transform(data_inf_num)\n",
        "data_inf_cat_1_scaled = cat_1_pipeline.transform(data_inf_cat_1)\n",
        "data_inf_cat_2_scaled = cat_2_pipeline.transform(data_inf_cat_2)\n",
        "\n",
        "data_inf_num_scaled"
      ],
      "metadata": {
        "id": "haB-1_v8LxMF"
      },
      "execution_count": null,
      "outputs": []
    },
    {
      "cell_type": "markdown",
      "source": [
        "# **X. Conclusion**"
      ],
      "metadata": {
        "id": "3FGXSpPbDblc"
      }
    },
    {
      "cell_type": "markdown",
      "source": [
        "Berdasarkan hasil percobaan yang telah dilakukan, dalam kasus memprediksi besarnya pembelian yang akan dilakukan oleh customer ritel \"ABC Private Limited\", model dengan performansi terbaik adalah Random Forest dengan nilai R square (Koefisien Determinasi) tertinggi dan Mean Absolute Error terkecil. Hyperparameter Tuning berhasil dilakukan dan meningkatkan nilai dari model. Untuk data yang sedikit dan membutuhkan prediksi yang baik terhadap variabel target seperti yang terjadi pada kasus ini (lebih khususnya karena adanya pemotongan dataset), metode Random Forest Regressor dapat dipilih."
      ],
      "metadata": {
        "id": "pL58nAgqHmYf"
      }
    }
  ]
}